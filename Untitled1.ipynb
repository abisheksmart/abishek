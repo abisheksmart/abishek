{
  "nbformat": 4,
  "nbformat_minor": 0,
  "metadata": {
    "colab": {
      "name": "Untitled1.ipynb",
      "provenance": [],
      "collapsed_sections": [],
      "toc_visible": true,
      "include_colab_link": true
    },
    "kernelspec": {
      "name": "python3",
      "display_name": "Python 3"
    },
    "language_info": {
      "name": "python"
    }
  },
  "cells": [
    {
      "cell_type": "markdown",
      "metadata": {
        "id": "view-in-github",
        "colab_type": "text"
      },
      "source": [
        "<a href=\"https://colab.research.google.com/github/abisheksmart/abishek/blob/main/Untitled1.ipynb\" target=\"_parent\"><img src=\"https://colab.research.google.com/assets/colab-badge.svg\" alt=\"Open In Colab\"/></a>"
      ]
    },
    {
      "cell_type": "markdown",
      "source": [
        "# New section"
      ],
      "metadata": {
        "id": "y-SpwKtdC25d"
      }
    },
    {
      "cell_type": "code",
      "execution_count": null,
      "metadata": {
        "colab": {
          "base_uri": "https://localhost:8080/"
        },
        "id": "xMcLiRrpGwaB",
        "outputId": "26187582-01f2-4242-b44d-b9127ecb518c"
      },
      "outputs": [
        {
          "output_type": "stream",
          "name": "stdout",
          "text": [
            "The sum of 1.5 and 6.3 is 7.8\n"
          ]
        }
      ],
      "source": [
        "num1 = 1.5\n",
        "num2 = 6.3\n",
        "sum = num1 + num2\n",
        "print('The sum of {0} and {1} is {2}'.format(num1, num2, sum))"
      ]
    },
    {
      "cell_type": "code",
      "source": [
        "num1 = input('Enter first number:')\n",
        "num2 = input('Enter second number:')\n",
        "sum = float(num1) + float(num2)\n",
        "print('The sum of {0} and {1} is {2}'.format(num1,num2, sum))"
      ],
      "metadata": {
        "colab": {
          "base_uri": "https://localhost:8080/"
        },
        "id": "OZwe0Ua7IXZB",
        "outputId": "f04711f7-e708-460a-d4dd-77ca250bf7a6"
      },
      "execution_count": null,
      "outputs": [
        {
          "output_type": "stream",
          "name": "stdout",
          "text": [
            "Enter first number:2.5\n",
            "Enter second number:6.3\n",
            "The sum of 2.5 and 6.3 is 8.8\n"
          ]
        }
      ]
    },
    {
      "cell_type": "code",
      "source": [
        ""
      ],
      "metadata": {
        "id": "SsbRL2xMt0n7"
      },
      "execution_count": null,
      "outputs": []
    },
    {
      "cell_type": "code",
      "source": [
        "num = 8\n",
        "num = float(input('Enter a number:'))\n",
        "num_sqrt = num **0.5\n",
        "print('The square root of %0.3f is %0.3f'%(num,num_sqrt))"
      ],
      "metadata": {
        "id": "PpepahjvJaDQ",
        "colab": {
          "base_uri": "https://localhost:8080/"
        },
        "outputId": "9aeb30fe-88dc-4511-8cb4-80d99ef26ca0"
      },
      "execution_count": null,
      "outputs": [
        {
          "output_type": "stream",
          "name": "stdout",
          "text": [
            "Enter a number:8\n",
            "The square root of 8.000 is 2.828\n"
          ]
        }
      ]
    },
    {
      "cell_type": "code",
      "source": [
        "import cmath\n",
        "num = 1+2j\n",
        "num + eval(input('Enter a number:'))\n",
        "num_sqrt = cmath.sqrt(num)\n",
        "print('The square root of {0} is {1:0.3f}+{2:0.3f}j'.format(num,num_sqrt.real,num_sqrt.imag))"
      ],
      "metadata": {
        "id": "Ln6oLKU4SRLv",
        "colab": {
          "base_uri": "https://localhost:8080/"
        },
        "outputId": "5603cc32-526b-4f58-bd22-61628108750d"
      },
      "execution_count": null,
      "outputs": [
        {
          "output_type": "stream",
          "name": "stdout",
          "text": [
            "Enter a number:10\n",
            "The square root of (1+2j) is 1.272+0.786j\n"
          ]
        }
      ]
    },
    {
      "cell_type": "code",
      "source": [
        "a = 5\n",
        "b = 10\n",
        "c = 7\n",
        "a =float(input('Enter first side:'))\n",
        "b =float(input('Enter second side:'))\n",
        "c =float(input('Enter third side:'))\n",
        "s = (a + b + c)/2\n",
        "area =(s*(s-a)*(s-b)*(s-c)) **0.5\n",
        "print(' The area of the triangle is %0.2f'%area)\n"
      ],
      "metadata": {
        "colab": {
          "base_uri": "https://localhost:8080/"
        },
        "id": "g2fhLw2oUehi",
        "outputId": "0b149132-632a-48ec-dc8b-50e12f357bda"
      },
      "execution_count": null,
      "outputs": [
        {
          "output_type": "stream",
          "name": "stdout",
          "text": [
            "Enter first side:14\n",
            "Enter second side:14\n",
            "Enter third side:7\n",
            " The area of the triangle is 47.44\n"
          ]
        }
      ]
    },
    {
      "cell_type": "code",
      "source": [
        " x = 5 \n",
        " y = 10\n",
        " temp = x\n",
        " x = y\n",
        " y = temp\n",
        " print('The value of x after swapping: {}'.format(x))\n",
        " print('The value of y after swapping: {}'.format(y))"
      ],
      "metadata": {
        "colab": {
          "base_uri": "https://localhost:8080/"
        },
        "id": "fkjY9ZfaUk8S",
        "outputId": "228ae93a-bd69-4ee8-dca0-f78a2ff672e9"
      },
      "execution_count": null,
      "outputs": [
        {
          "output_type": "stream",
          "name": "stdout",
          "text": [
            "The value of x after swapping: 10\n",
            "The value of y after swapping: 5\n"
          ]
        }
      ]
    },
    {
      "cell_type": "code",
      "source": [
        "number = 10\n",
        "number = 1.1\n",
        "website =\"apple.com\"\n",
        "print(website)"
      ],
      "metadata": {
        "colab": {
          "base_uri": "https://localhost:8080/"
        },
        "id": "BppL97utUk03",
        "outputId": "e157b74f-c6e5-4906-845e-168c168f8f39"
      },
      "execution_count": null,
      "outputs": [
        {
          "output_type": "stream",
          "name": "stdout",
          "text": [
            "apple.com\n"
          ]
        }
      ]
    },
    {
      "cell_type": "code",
      "source": [
        "website = \"apple.com\"\n",
        "print(website)\n",
        "website = \"programiz.com\"\n",
        "print(website)"
      ],
      "metadata": {
        "colab": {
          "base_uri": "https://localhost:8080/"
        },
        "id": "D4mf1DkwUkxN",
        "outputId": "7e6969fd-8a52-45c0-b8d1-97b525e25312"
      },
      "execution_count": null,
      "outputs": [
        {
          "output_type": "stream",
          "name": "stdout",
          "text": [
            "apple.com\n",
            "programiz.com\n"
          ]
        }
      ]
    },
    {
      "cell_type": "code",
      "source": [
        "strings =\"This is python\"\n",
        "char = \"c\"\n",
        "multiline_str = \"\"\" This is a multiline string with more than one line code.\"\"\"\n",
        "unicode = u\"\\u00dcnic\\u00f6de\"\n",
        "raw_str = r\"raw \\n string\"\n",
        "print (strings)\n",
        "print (char)\n",
        "print(multiline_str)\n",
        "print(unicode)\n",
        "print(raw_str)"
      ],
      "metadata": {
        "colab": {
          "base_uri": "https://localhost:8080/"
        },
        "id": "L_T2fpEdbAfG",
        "outputId": "af61ef1c-5bd3-4130-8ac8-3ac0c10bc1f3"
      },
      "execution_count": null,
      "outputs": [
        {
          "output_type": "stream",
          "name": "stdout",
          "text": [
            "This is python\n",
            "c\n",
            " This is a multiline string with more than one line code.\n",
            "Ünicöde\n",
            "raw \\n string\n"
          ]
        }
      ]
    },
    {
      "cell_type": "code",
      "source": [
        "x = (1 == True)\n",
        "y = (1 == False)\n",
        "a = True + 4\n",
        "b = False + 10\n",
        "print(\"x is\",x)\n",
        "print(\"y is\",y)\n",
        "print(\"a:\",a)\n",
        "print(\"b:\",b)"
      ],
      "metadata": {
        "id": "AvR20bRCc6y6",
        "colab": {
          "base_uri": "https://localhost:8080/"
        },
        "outputId": "bc1da297-d1dc-45ef-80d7-f765b02df4e4"
      },
      "execution_count": null,
      "outputs": [
        {
          "output_type": "stream",
          "name": "stdout",
          "text": [
            "x is True\n",
            "y is False\n",
            "a: 5\n",
            "b: 10\n"
          ]
        }
      ]
    },
    {
      "cell_type": "code",
      "source": [
        "drink = \"Available\"\n",
        "food = None\n",
        "def menu(x):\n",
        "    if x == drink:\n",
        "      print(drink)\n",
        "    else:\n",
        "      print(food)\n",
        "menu(drink)\n",
        "menu(food)        "
      ],
      "metadata": {
        "colab": {
          "base_uri": "https://localhost:8080/"
        },
        "id": "0rYPNqrspdUC",
        "outputId": "057ce06f-b072-40bd-f30f-e77cc75a5d4b"
      },
      "execution_count": null,
      "outputs": [
        {
          "output_type": "stream",
          "name": "stdout",
          "text": [
            "Available\n",
            "None\n"
          ]
        }
      ]
    },
    {
      "cell_type": "code",
      "source": [
        "fruits =[\"apple\",\"Mango\",\"orange\"]\n",
        "numbers = (1, 2, 3)\n",
        "alphabets ={'a':'apple','b':'ball','c':'cat'}\n",
        "vowels = {'a','e','i','o','u'}\n",
        "print(fruits)\n",
        "print(numbers)\n",
        "print(alphabets)\n",
        "print(vowels)"
      ],
      "metadata": {
        "colab": {
          "base_uri": "https://localhost:8080/"
        },
        "id": "C_c23CN0qYoH",
        "outputId": "7eeacfa1-9a7d-4e4d-9e8a-d93860c3ad59"
      },
      "execution_count": null,
      "outputs": [
        {
          "output_type": "stream",
          "name": "stdout",
          "text": [
            "['apple', 'Mango', 'orange']\n",
            "(1, 2, 3)\n",
            "{'a': 'apple', 'b': 'ball', 'c': 'cat'}\n",
            "{'o', 'e', 'i', 'u', 'a'}\n"
          ]
        }
      ]
    },
    {
      "cell_type": "code",
      "source": [
        "def max_of_two( x, y):\n",
        "  if x > y:\n",
        "    return x\n",
        "  return y\n",
        "def max_of_three( x, y, z):\n",
        "  return max_of_two( x, max_of_two( y,z))\n",
        "print(max_of_three(3,6,-5))      "
      ],
      "metadata": {
        "colab": {
          "base_uri": "https://localhost:8080/"
        },
        "id": "RQs4PUT2rKrK",
        "outputId": "7b188800-db4d-4214-d016-ad1a18ca6466"
      },
      "execution_count": null,
      "outputs": [
        {
          "output_type": "stream",
          "name": "stdout",
          "text": [
            "6\n"
          ]
        }
      ]
    },
    {
      "cell_type": "code",
      "source": [
        "test_Dict = {i: i * i for i in range(10)}\n",
        "test_Set = { i * 2 for i in range(10)}\n",
        "print (test_Set)\n",
        "print (test_Dict)"
      ],
      "metadata": {
        "colab": {
          "base_uri": "https://localhost:8080/"
        },
        "id": "ZLh8YNNjt2bR",
        "outputId": "de89b76c-e2a6-4f98-ef03-0c4a4c9ecc3d"
      },
      "execution_count": null,
      "outputs": [
        {
          "output_type": "stream",
          "name": "stdout",
          "text": [
            "{0, 2, 4, 6, 8, 10, 12, 14, 16, 18}\n",
            "{0: 0, 1: 1, 2: 4, 3: 9, 4: 16, 5: 25, 6: 36, 7: 49, 8: 64, 9: 81}\n"
          ]
        }
      ]
    },
    {
      "cell_type": "code",
      "source": [
        "def multiply(numbers):\n",
        "    total = 1\n",
        "    for x in numbers:\n",
        "      total *= x\n",
        "    return total\n",
        "print(multiply((8,2,3,-1,7)))    "
      ],
      "metadata": {
        "colab": {
          "base_uri": "https://localhost:8080/"
        },
        "id": "4ahrBD_aujIy",
        "outputId": "7506e2dc-a27f-43e5-83be-4a1cc2eb19f6"
      },
      "execution_count": null,
      "outputs": [
        {
          "output_type": "stream",
          "name": "stdout",
          "text": [
            "-336\n"
          ]
        }
      ]
    },
    {
      "cell_type": "code",
      "source": [
        "def String_reverse(str1):\n",
        "     rstr1 = ''\n",
        "     index = len(str1)\n",
        "     while index > 0:\n",
        "       rstr1 += str1[ index - 1]\n",
        "       index = index -1\n",
        "     return rstr1\n",
        "print(String_reverse('1234abcd'))       "
      ],
      "metadata": {
        "colab": {
          "base_uri": "https://localhost:8080/"
        },
        "id": "aAfjmKIAvnCu",
        "outputId": "4f692d25-3c90-4739-d90c-60570a783a3d"
      },
      "execution_count": null,
      "outputs": [
        {
          "output_type": "stream",
          "name": "stdout",
          "text": [
            "dcba4321\n"
          ]
        }
      ]
    },
    {
      "cell_type": "code",
      "source": [
        "def factorial(n):\n",
        "  if n == 0:\n",
        "    return 1\n",
        "  else:\n",
        "    return n *factorial(n-1)\n",
        "n=int(input(\"Input a number to compute the factorial:\"))\n",
        "print (factorial(n))      "
      ],
      "metadata": {
        "colab": {
          "base_uri": "https://localhost:8080/"
        },
        "id": "KkhSZLYewvAs",
        "outputId": "37507c9d-f31b-4ae0-d42b-908b755932f8"
      },
      "execution_count": null,
      "outputs": [
        {
          "output_type": "stream",
          "name": "stdout",
          "text": [
            "Input a number to compute the factorial:4\n",
            "24\n"
          ]
        }
      ]
    },
    {
      "cell_type": "code",
      "source": [
        "def sum(numbers):\n",
        "  total = 0\n",
        "  for x in numbers:\n",
        "      total += x\n",
        "  return total\n",
        "print(sum((8,2,3,0,7)))\n"
      ],
      "metadata": {
        "colab": {
          "base_uri": "https://localhost:8080/"
        },
        "id": "5TOeeLaexTgK",
        "outputId": "f99a3573-2cdf-42e2-f0cb-fe188e7c00ac"
      },
      "execution_count": null,
      "outputs": [
        {
          "output_type": "stream",
          "name": "stdout",
          "text": [
            "20\n"
          ]
        }
      ]
    },
    {
      "cell_type": "code",
      "source": [
        "def test_range(n):\n",
        "     if n in range(3,9):\n",
        "       print( \"%s is the range\"%str (n))\n",
        "     else :\n",
        "        print(\"The number is outside the given range.\")\n",
        "test_range(5)  "
      ],
      "metadata": {
        "colab": {
          "base_uri": "https://localhost:8080/"
        },
        "id": "CLRM7Nsey0xc",
        "outputId": "a31e7b76-e839-4b3e-f7a5-ac8e2962b31e"
      },
      "execution_count": null,
      "outputs": [
        {
          "output_type": "stream",
          "name": "stdout",
          "text": [
            "5 is the range\n"
          ]
        }
      ]
    },
    {
      "cell_type": "code",
      "source": [
        "def string_test (s):\n",
        "  d={\"UPPER_CASE\":0,\"LOWER_CASE\":0}\n",
        "  for c in s:\n",
        "      if c.isupper():\n",
        "        d[\"UPPER_CASE\"]+=1\n",
        "      elif c.islower():\n",
        "        d[\"LOWER_CASE\"]+=1\n",
        "      else:\n",
        "         pass\n",
        "  print (\"Original String : \", S)\n",
        "  print (\"No.of Upper case characters :\",d[\"UPPER_CASE\"])\n",
        "  print (\"No.of Lower case characters :\",d[\"LOWER_CASE\"])\n",
        "\n",
        "  String_test('The quick Brown Fox')           "
      ],
      "metadata": {
        "id": "mGosRlHGzhI_"
      },
      "execution_count": null,
      "outputs": []
    },
    {
      "cell_type": "code",
      "source": [
        "def unique (list1):\n",
        "  unique_list = []\n",
        "  for x in list1:\n",
        "        if x not in unique_list:\n",
        "           unique_list.append(X)\n",
        "\n",
        "   for x in unique_list:\n",
        "     print x,\n",
        "print(f([1,2,3,3,3,3,4,5]) )   "
      ],
      "metadata": {
        "colab": {
          "base_uri": "https://localhost:8080/",
          "height": 130
        },
        "id": "ZKkNCCVA2Ner",
        "outputId": "9eea0a6a-2eb8-4d95-9d13-c9d8b81a40ae"
      },
      "execution_count": null,
      "outputs": [
        {
          "output_type": "error",
          "ename": "IndentationError",
          "evalue": "ignored",
          "traceback": [
            "\u001b[0;36m  File \u001b[0;32m\"<ipython-input-91-b4faca9963eb>\"\u001b[0;36m, line \u001b[0;32m7\u001b[0m\n\u001b[0;31m    for x in unique_list:\u001b[0m\n\u001b[0m                         ^\u001b[0m\n\u001b[0;31mIndentationError\u001b[0m\u001b[0;31m:\u001b[0m unindent does not match any outer indentation level\n"
          ]
        }
      ]
    },
    {
      "cell_type": "code",
      "source": [
        ""
      ],
      "metadata": {
        "id": "DL-ZlgFo5RC2"
      },
      "execution_count": null,
      "outputs": []
    },
    {
      "cell_type": "code",
      "source": [
        ""
      ],
      "metadata": {
        "id": "C2MvyoAs5RD3"
      },
      "execution_count": null,
      "outputs": []
    }
  ]
}