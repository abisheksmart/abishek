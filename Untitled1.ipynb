{
  "nbformat": 4,
  "nbformat_minor": 0,
  "metadata": {
    "colab": {
      "name": "Untitled1.ipynb",
      "provenance": [],
      "authorship_tag": "ABX9TyMiIR6rwBrqGVFlwQzjvv/P",
      "include_colab_link": true
    },
    "kernelspec": {
      "name": "python3",
      "display_name": "Python 3"
    },
    "language_info": {
      "name": "python"
    }
  },
  "cells": [
    {
      "cell_type": "markdown",
      "metadata": {
        "id": "view-in-github",
        "colab_type": "text"
      },
      "source": [
        "<a href=\"https://colab.research.google.com/github/abisheksmart/abishek/blob/main/Untitled1.ipynb\" target=\"_parent\"><img src=\"https://colab.research.google.com/assets/colab-badge.svg\" alt=\"Open In Colab\"/></a>"
      ]
    },
    {
      "cell_type": "code",
      "execution_count": 3,
      "metadata": {
        "colab": {
          "base_uri": "https://localhost:8080/"
        },
        "id": "Y1rxIP6R-Rnz",
        "outputId": "9ddfb499-0162-477b-84aa-a96c2f6e899c"
      },
      "outputs": [
        {
          "output_type": "stream",
          "name": "stdout",
          "text": [
            "False\n"
          ]
        }
      ],
      "source": [
        "def isPalindrome(string):\n",
        "\tleft_pos = 0\n",
        "\tright_pos = len(string) - 1\n",
        "\t\n",
        "\twhile right_pos >= left_pos:\n",
        "\t\tif not string[left_pos] == string[right_pos]:\n",
        "\t\t\treturn False\n",
        "\t\tleft_pos += 1\n",
        "\t\tright_pos -= 1\n",
        "\treturn True\n",
        "print(isPalindrome('fox')) "
      ]
    },
    {
      "cell_type": "code",
      "source": [
        "a = []\n",
        "number = int(input(\" please enter the total elements:\"))\n",
        "for i in range(number):\n",
        "  value = int(input(\"please enter the %d Item:\"%i))\n",
        "  a.append(value)\n",
        "for i in range(number -1):\n",
        "   for j in range (number -i -1):\n",
        "         if (a[j] > a[j + 1]):\n",
        "              temp = a[j]\n",
        "              a[j] = a[j + 1]\n",
        "              a[j + 1] = temp\n",
        "print(\"The Result in Ascending order:\",a)      "
      ],
      "metadata": {
        "id": "o8uqIRca_NTU"
      },
      "execution_count": null,
      "outputs": []
    }
  ]
}