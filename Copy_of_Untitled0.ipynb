{
  "nbformat": 4,
  "nbformat_minor": 0,
  "metadata": {
    "colab": {
      "name": "Copy of Untitled0.ipynb",
      "provenance": [],
      "collapsed_sections": [],
      "authorship_tag": "ABX9TyM6vA/VuPCA9tScFu1rXh86",
      "include_colab_link": true
    },
    "kernelspec": {
      "name": "python3",
      "display_name": "Python 3"
    },
    "language_info": {
      "name": "python"
    }
  },
  "cells": [
    {
      "cell_type": "markdown",
      "metadata": {
        "id": "view-in-github",
        "colab_type": "text"
      },
      "source": [
        "<a href=\"https://colab.research.google.com/github/abisheksmart/abishek/blob/main/Copy_of_Untitled0.ipynb\" target=\"_parent\"><img src=\"https://colab.research.google.com/assets/colab-badge.svg\" alt=\"Open In Colab\"/></a>"
      ]
    },
    {
      "cell_type": "markdown",
      "source": [
        "calling a function"
      ],
      "metadata": {
        "id": "P9l3BCnrDLNw"
      }
    },
    {
      "cell_type": "code",
      "execution_count": null,
      "metadata": {
        "colab": {
          "base_uri": "https://localhost:8080/"
        },
        "id": "UnFnjT62-brK",
        "outputId": "9523ab02-b28a-46b6-8c83-170abb71b27e"
      },
      "outputs": [
        {
          "output_type": "stream",
          "name": "stdout",
          "text": [
            "I'm first call to user defined function!\n",
            "Again second call to the same function\n"
          ]
        }
      ],
      "source": [
        "def printme( str ):\n",
        "  \"This prints a passed string into this function\"\n",
        "  print ( str )\n",
        "  return\n",
        "printme(\"I'm first call to user defined function!\")\n",
        "printme(\"Again second call to the same function\")  "
      ]
    },
    {
      "cell_type": "markdown",
      "source": [
        "pass by reference vs value"
      ],
      "metadata": {
        "id": "xLAP3KIHDQrm"
      }
    },
    {
      "cell_type": "code",
      "source": [
        "def changeme( mylist ):\n",
        "  \"This changes a passed list into this function\"\n",
        "  mylist.append([1,2,3,4]);\n",
        "  print (\"Values inside the function:\"),mylist\n",
        "  return\n",
        "mylist = [10,20,30];\n",
        "changeme ( mylist );\n",
        "print (\"Values outside the function:\"),mylist "
      ],
      "metadata": {
        "colab": {
          "base_uri": "https://localhost:8080/"
        },
        "id": "pt14mYBd_Q-0",
        "outputId": "b76436af-ee46-42ac-938a-657dc3a98fce"
      },
      "execution_count": null,
      "outputs": [
        {
          "output_type": "stream",
          "name": "stdout",
          "text": [
            "Values inside the function:\n",
            "Values outside the function:\n"
          ]
        },
        {
          "output_type": "execute_result",
          "data": {
            "text/plain": [
              "(None, [10, 20, 30, [1, 2, 3, 4]])"
            ]
          },
          "metadata": {},
          "execution_count": 23
        }
      ]
    },
    {
      "cell_type": "markdown",
      "source": [
        "function Arguments"
      ],
      "metadata": {
        "id": "O-bJpYhQDEj3"
      }
    },
    {
      "cell_type": "code",
      "source": [
        "\n",
        "def printme( str ):\n",
        "  \"This prints a passed string into this function\"\n",
        "  print ( str )\n",
        "  return;\n",
        "printme( str = \"My string\")  \n"
      ],
      "metadata": {
        "colab": {
          "base_uri": "https://localhost:8080/"
        },
        "id": "hclQO12-DIZg",
        "outputId": "067e7355-d3b8-4444-e55f-07edaa0bfafa"
      },
      "execution_count": null,
      "outputs": [
        {
          "output_type": "stream",
          "name": "stdout",
          "text": [
            "My string\n"
          ]
        }
      ]
    },
    {
      "cell_type": "markdown",
      "source": [
        ""
      ],
      "metadata": {
        "id": "94eZg0ekEG-a"
      }
    },
    {
      "cell_type": "code",
      "source": [
        "def printinfo( name, age ):\n",
        "  \"This prints a passed info into this function\"\n",
        "  print (\"Name: \", name)\n",
        "  print (\"Age \", age)\n",
        "  return;\n",
        "printinfo( age=50, name=\"miki\" )  "
      ],
      "metadata": {
        "colab": {
          "base_uri": "https://localhost:8080/"
        },
        "id": "95MkQz0sE6ya",
        "outputId": "40ee08b7-5767-47cb-9150-ea0a5dfc0780"
      },
      "execution_count": null,
      "outputs": [
        {
          "output_type": "stream",
          "name": "stdout",
          "text": [
            "Name:  miki\n",
            "Age  50\n"
          ]
        }
      ]
    },
    {
      "cell_type": "markdown",
      "source": [
        " Default arguments"
      ],
      "metadata": {
        "id": "jBimRWHLF5cy"
      }
    },
    {
      "cell_type": "code",
      "source": [
        "def printinfo( name, age = 35 ):\n",
        "  \"This prints a passed info into this function\"\n",
        "  print (\"Name: \",name)\n",
        "  print (\"Age \",age)\n",
        "  return;\n",
        "printinfo( age=50, name=\"miki\")\n",
        "printinfo( name=\"vicky\" )  "
      ],
      "metadata": {
        "colab": {
          "base_uri": "https://localhost:8080/"
        },
        "id": "ju1AuJDTF_WW",
        "outputId": "bc9be5ab-0b6f-4493-edbb-66af103e807f"
      },
      "execution_count": null,
      "outputs": [
        {
          "output_type": "stream",
          "name": "stdout",
          "text": [
            "Name:  miki\n",
            "Age  50\n",
            "Name:  vicky\n",
            "Age  35\n"
          ]
        }
      ]
    },
    {
      "cell_type": "markdown",
      "source": [
        "variable length arguments"
      ],
      "metadata": {
        "id": "4c81sTgAG5Mr"
      }
    },
    {
      "cell_type": "code",
      "source": [
        "def printinfo( arg1, *vartuple ):\n",
        "  \"This prints a variable passed arguments\"\n",
        "  print (\"Output is:\")\n",
        "  print (arg1)\n",
        "  for var in vartuple:\n",
        "     print (var)\n",
        "  return;\n",
        "printinfo( 10 )\n",
        "printinfo( 70, 60, 50 )      "
      ],
      "metadata": {
        "colab": {
          "base_uri": "https://localhost:8080/"
        },
        "id": "X2TaalKWHKaR",
        "outputId": "935ed019-1a5b-44ca-ec76-cf287be58232"
      },
      "execution_count": null,
      "outputs": [
        {
          "output_type": "stream",
          "name": "stdout",
          "text": [
            "Output is:\n",
            "10\n",
            "Output is:\n",
            "70\n",
            "60\n",
            "50\n"
          ]
        }
      ]
    },
    {
      "cell_type": "markdown",
      "source": [
        "   Global vs Local variables"
      ],
      "metadata": {
        "id": "JnBNSpFDJQWh"
      }
    },
    {
      "cell_type": "code",
      "source": [
        "total = 0;\n",
        "def sum( arg1, arg2 ):\n",
        "  total = arg1 + arg2;\n",
        "  print(\"Inside the function local total : \", total)\n",
        "  return total;\n",
        "sum(10,20);\n",
        "print(\"Outside the function global total :\", total)  "
      ],
      "metadata": {
        "colab": {
          "base_uri": "https://localhost:8080/"
        },
        "id": "N6MgSP2CJfpp",
        "outputId": "1b8bf599-602b-4341-d1b5-d8ec2dfcb7da"
      },
      "execution_count": null,
      "outputs": [
        {
          "output_type": "stream",
          "name": "stdout",
          "text": [
            "Inside the function local total :  30\n",
            "Outside the function global total : 0\n"
          ]
        }
      ]
    },
    {
      "cell_type": "markdown",
      "source": [
        "Prime number program using Maths functions"
      ],
      "metadata": {
        "id": "rUTkwyPpKTTs"
      }
    },
    {
      "cell_type": "code",
      "source": [
        "from math import sqrt\n",
        "max_value = eval(input(\"Display prime up to what value? \"))\n",
        "value = 2\n",
        "while value <=max_value:\n",
        "    is_prime = True\n",
        "    trial_factor = 2\n",
        "    root = sqrt(value)\n",
        "    while trial_factor <= root:\n",
        "       if value % trial_factor == 0:\n",
        "           is_prime = False;\n",
        "           break\n",
        "       trial_factor += 1\n",
        "    if is_prime:\n",
        "       print(value, end= ' ')\n",
        "    value += 1\n",
        "print ()          "
      ],
      "metadata": {
        "colab": {
          "base_uri": "https://localhost:8080/"
        },
        "id": "dQuedqQJKa5e",
        "outputId": "1ea982ed-f2bd-4b13-acbf-6131d1d1560c"
      },
      "execution_count": null,
      "outputs": [
        {
          "output_type": "stream",
          "name": "stdout",
          "text": [
            "Display prime up to what value? 20\n",
            "2 3 5 7 11 13 17 19 \n"
          ]
        }
      ]
    },
    {
      "cell_type": "markdown",
      "source": [
        "Time function : clock example 1"
      ],
      "metadata": {
        "id": "iQ_WmGo0MsXz"
      }
    },
    {
      "cell_type": "code",
      "source": [
        "from time import clock\n",
        "print(\"Enter your name: \", end=\" \")\n",
        "start_time = clock()\n",
        "name = input()\n",
        "elapsed = clock()-start_time\n",
        "print(name, \"it took you\", elapsed, \"seconds to respond\")\n"
      ],
      "metadata": {
        "colab": {
          "base_uri": "https://localhost:8080/"
        },
        "id": "cXLRndiWMsDk",
        "outputId": "333ca556-89ca-40b4-e363-1ea4171804c7"
      },
      "execution_count": null,
      "outputs": [
        {
          "output_type": "stream",
          "name": "stderr",
          "text": [
            "/usr/local/lib/python3.7/dist-packages/ipykernel_launcher.py:3: DeprecationWarning: time.clock has been deprecated in Python 3.3 and will be removed from Python 3.8: use time.perf_counter or time.process_time instead\n",
            "  This is separate from the ipykernel package so we can avoid doing imports until\n"
          ]
        },
        {
          "output_type": "stream",
          "name": "stdout",
          "text": [
            "Enter your name:  rick\n",
            "rick it took you 0.03246299999999991 seconds to respond\n"
          ]
        },
        {
          "output_type": "stream",
          "name": "stderr",
          "text": [
            "/usr/local/lib/python3.7/dist-packages/ipykernel_launcher.py:5: DeprecationWarning: time.clock has been deprecated in Python 3.3 and will be removed from Python 3.8: use time.perf_counter or time.process_time instead\n",
            "  \"\"\"\n"
          ]
        }
      ]
    },
    {
      "cell_type": "markdown",
      "source": [
        "Time function : clock example 2"
      ],
      "metadata": {
        "id": "8quWMT_aNtI4"
      }
    },
    {
      "cell_type": "code",
      "source": [
        "from time import clock \n",
        "max_value = 10000\n",
        "count = 0 \n",
        "start_time = clock()\n",
        "for value in range(2, max_value + 1):\n",
        "    is_prime = True\n",
        "    for trial_factor in range(2, value):\n",
        "         if value % trial_factor == 0:\n",
        "              is_prime = False\n",
        "              break\n",
        "    if is_prime:\n",
        "        count += 1\n",
        "print()\n",
        "elapsed = clock() -start_time \n",
        "print(\"Count:\",count, \"Elapsed time:\",elapsed, \"sec\")                "
      ],
      "metadata": {
        "colab": {
          "base_uri": "https://localhost:8080/"
        },
        "id": "4OIA7wfJNybe",
        "outputId": "186ac021-f52e-4b38-f82e-80b56e2839f2"
      },
      "execution_count": null,
      "outputs": [
        {
          "output_type": "stream",
          "name": "stderr",
          "text": [
            "/usr/local/lib/python3.7/dist-packages/ipykernel_launcher.py:4: DeprecationWarning: time.clock has been deprecated in Python 3.3 and will be removed from Python 3.8: use time.perf_counter or time.process_time instead\n",
            "  after removing the cwd from sys.path.\n"
          ]
        },
        {
          "output_type": "stream",
          "name": "stdout",
          "text": [
            "\n",
            "Count: 1229 Elapsed time: 0.7158249999999988 sec\n"
          ]
        },
        {
          "output_type": "stream",
          "name": "stderr",
          "text": [
            "/usr/local/lib/python3.7/dist-packages/ipykernel_launcher.py:14: DeprecationWarning: time.clock has been deprecated in Python 3.3 and will be removed from Python 3.8: use time.perf_counter or time.process_time instead\n",
            "  \n"
          ]
        }
      ]
    },
    {
      "cell_type": "markdown",
      "source": [
        "Time function: sleep example"
      ],
      "metadata": {
        "id": "F4e1VhntPu4M"
      }
    },
    {
      "cell_type": "code",
      "source": [
        "from time import sleep\n",
        "for count in range(10, -1, -1):\n",
        "    print(count)\n",
        "    sleep(1)"
      ],
      "metadata": {
        "colab": {
          "base_uri": "https://localhost:8080/"
        },
        "id": "gowN0E_gP0bm",
        "outputId": "cbd0369a-5f4a-4cd5-a4d3-28b70eef2b76"
      },
      "execution_count": null,
      "outputs": [
        {
          "output_type": "stream",
          "name": "stdout",
          "text": [
            "10\n",
            "9\n",
            "8\n",
            "7\n",
            "6\n",
            "5\n",
            "4\n",
            "3\n",
            "2\n",
            "1\n",
            "0\n"
          ]
        }
      ]
    },
    {
      "cell_type": "markdown",
      "source": [
        "Random module function example"
      ],
      "metadata": {
        "id": "7PKvDDPTQViz"
      }
    },
    {
      "cell_type": "code",
      "source": [
        "from random import randrange, seed\n",
        "seed(23)\n",
        "for i in range(0, 100):\n",
        "    print(randrange(1, 1000), end=' ')\n",
        "print ()    "
      ],
      "metadata": {
        "colab": {
          "base_uri": "https://localhost:8080/"
        },
        "id": "uUMgQHxBQcH0",
        "outputId": "03feca77-b7c5-4779-9773-ddd7c088773e"
      },
      "execution_count": null,
      "outputs": [
        {
          "output_type": "stream",
          "name": "stdout",
          "text": [
            "948 799 972 297 914 850 86 18 607 315 434 389 543 367 134 744 197 274 456 15 227 636 466 924 26 109 88 728 511 432 21 525 643 752 442 368 790 59 211 802 37 604 378 674 177 636 222 995 753 372 580 779 881 378 992 586 289 677 999 322 587 88 834 486 182 736 495 605 811 459 692 658 168 187 819 183 547 332 690 836 533 201 597 118 85 101 437 40 582 283 963 587 288 841 605 339 112 379 922 296 \n"
          ]
        }
      ]
    },
    {
      "cell_type": "markdown",
      "source": [
        "Rolling of a die program using Ranadom Module functions"
      ],
      "metadata": {
        "id": "E-9ytXbdRQrC"
      }
    },
    {
      "cell_type": "code",
      "source": [
        "from random import randrange\n",
        "for i in range(0, 5):\n",
        "  value = randrange(1, 8)\n",
        "  print(\"+---------+\")\n",
        "  if value == 1:\n",
        "      print(\"|        |\")\n",
        "      print(\"|    *   |\")\n",
        "      print(\"|        |\")\n",
        "  elif value == 2:\n",
        "     print(\"| *       |\")\n",
        "     print(\"|         |\")\n",
        "     print(\"|       * |\")\n",
        "  elif value == 3:   \n",
        "     print(\"|        *|\")\n",
        "     print(\"|    *    |\")\n",
        "     print(\"| *       |\")\n",
        "  elif value == 4:\n",
        "     print(\"| *     * |\")\n",
        "     print(\"|         |\") \n",
        "     print(\"| *     * |\")\n",
        "  elif value == 5:\n",
        "     print(\"| *     * |\")\n",
        "     print(\"|    *    |\")\n",
        "     print(\"| *     * |\")       \n",
        "  "
      ],
      "metadata": {
        "id": "CvkYw4VkRfOr",
        "colab": {
          "base_uri": "https://localhost:8080/"
        },
        "outputId": "12dcdb04-7033-4178-e687-6d3ebcf9e89d"
      },
      "execution_count": null,
      "outputs": [
        {
          "output_type": "stream",
          "name": "stdout",
          "text": [
            "+---------+\n",
            "| *     * |\n",
            "|    *    |\n",
            "| *     * |\n",
            "+---------+\n",
            "+---------+\n",
            "| *     * |\n",
            "|    *    |\n",
            "| *     * |\n",
            "+---------+\n",
            "| *     * |\n",
            "|    *    |\n",
            "| *     * |\n",
            "+---------+\n"
          ]
        }
      ]
    },
    {
      "cell_type": "markdown",
      "source": [
        "Main function"
      ],
      "metadata": {
        "id": "aS1TgQb9zOZU"
      }
    },
    {
      "cell_type": "code",
      "source": [
        "def gcd(m, n):\n",
        "  min = m if m < n else n \n",
        "  largestFactor = 1\n",
        "  for i in range(1, min + 1):\n",
        "      if m % i == 0 and n % 1 == 0:\n",
        "          largestFactor = i\n",
        "  return largestFactor\n",
        "def get_int ():\n",
        "    return int(input(\"please enter an integer:\"))\n",
        "def main () :\n",
        "    n1 = get_int ()\n",
        "    n2 = get_int ()\n",
        "    print(\"gcd(\", n1, \",\", n2, \") = \", gcd (n1, n2), sep=\" \")\n",
        "main ()         \n"
      ],
      "metadata": {
        "colab": {
          "base_uri": "https://localhost:8080/"
        },
        "id": "mpHYcETBzVBH",
        "outputId": "5711a23d-5c7d-4b12-a708-99105adb4adf"
      },
      "execution_count": null,
      "outputs": [
        {
          "output_type": "stream",
          "name": "stdout",
          "text": [
            "please enter an integer:10\n",
            "please enter an integer:20\n",
            "gcd( 10 , 20 ) =  10\n"
          ]
        }
      ]
    },
    {
      "cell_type": "markdown",
      "source": [
        "paramter passing example"
      ],
      "metadata": {
        "id": "Smi7BG3b1S-F"
      }
    },
    {
      "cell_type": "code",
      "source": [
        "def increment(x):\n",
        "  print(\"Beginning execution of increment, x =\", x)\n",
        "  x += 1\n",
        "  print(\"Ending execution of increment,x=\",x)\n",
        "def main ():\n",
        "  x = 5\n",
        "  print(\"Before increment, x=\",x)\n",
        "  increment(x)\n",
        "  print(\"After increment, x=\", x)\n",
        "main ()    "
      ],
      "metadata": {
        "colab": {
          "base_uri": "https://localhost:8080/"
        },
        "id": "em7ya4NF1X_k",
        "outputId": "6f071c76-e319-49b5-9fc5-017f5cad43c4"
      },
      "execution_count": null,
      "outputs": [
        {
          "output_type": "stream",
          "name": "stdout",
          "text": [
            "Before increment, x= 5\n",
            "Beginning execution of increment, x = 5\n",
            "Ending execution of increment,x= 6\n",
            "After increment, x= 5\n"
          ]
        }
      ]
    },
    {
      "cell_type": "markdown",
      "source": [
        "Recursion"
      ],
      "metadata": {
        "id": "h9Kcui-k2Qm2"
      }
    },
    {
      "cell_type": "code",
      "source": [
        "def factorial (n):\n",
        "  if n == 0:\n",
        "      return 1\n",
        "  else:\n",
        "      return n * factorial (n - 1)\n",
        "def main():\n",
        "    print(\"0! = \",  factorial(0))\n",
        "    print(\"1! = \",  factorial(1))\n",
        "    print(\"2! = \",  factorial(10))\n",
        "main ()    \n"
      ],
      "metadata": {
        "colab": {
          "base_uri": "https://localhost:8080/"
        },
        "id": "EIMWqbi43R_x",
        "outputId": "f39ccf82-ec8e-4dab-de62-b51532e76166"
      },
      "execution_count": null,
      "outputs": [
        {
          "output_type": "stream",
          "name": "stdout",
          "text": [
            "0! =  1\n",
            "1! =  1\n",
            "2! =  3628800\n"
          ]
        }
      ]
    },
    {
      "cell_type": "markdown",
      "source": [
        "Documenting Functions and Modules"
      ],
      "metadata": {
        "id": "oU4E31mF4Lwj"
      }
    },
    {
      "cell_type": "code",
      "source": [
        "x = '''\n",
        "This is a multi-line\n",
        "    string that goes on\n",
        "for three lines!\n",
        "'''\n",
        "print(x)    "
      ],
      "metadata": {
        "colab": {
          "base_uri": "https://localhost:8080/"
        },
        "id": "g9UyU2AT51cg",
        "outputId": "a52fcbb1-f4a1-458a-9a24-8f73b4baa96a"
      },
      "execution_count": null,
      "outputs": [
        {
          "output_type": "stream",
          "name": "stdout",
          "text": [
            "\n",
            "This is a multi-line\n",
            "    string that goes on\n",
            "for three lines!\n",
            "\n"
          ]
        }
      ]
    },
    {
      "cell_type": "markdown",
      "source": [
        "Built in function"
      ],
      "metadata": {
        "id": "vV_P7nJu6JOQ"
      }
    },
    {
      "cell_type": "code",
      "source": [
        "def add(x, y):\n",
        "    '''\n",
        "    Adds the parameters x and y and returns the result\n",
        "    '''\n",
        "    return x + y\n",
        "def multiply(x, y):\n",
        "    '''\n",
        "    Multiplies the parameters x and y and returns the result\n",
        "    '''\n",
        "    return x * y\n",
        "def evaluate(f, x, y):\n",
        "    '''\n",
        "    calls the function f with parameters x and y:\n",
        "    f(x, y)\n",
        "    '''\n",
        "    return f(x, y)\n",
        "def main():\n",
        "    '''\n",
        "    Tests the add, multiply, and evaluate functions\n",
        "    '''\n",
        "    print (add(2, 3));\n",
        "    print (multiply(2, 3));\n",
        "    print (evaluate(add, 2, 3));\n",
        "    print (evaluate(multiply, 2 , 3));\n",
        "main ()  \n",
        "\n"
      ],
      "metadata": {
        "colab": {
          "base_uri": "https://localhost:8080/"
        },
        "id": "eL2aR-Fc7Dq_",
        "outputId": "2a59895f-1199-4883-ef93-fdc9f1b56384"
      },
      "execution_count": null,
      "outputs": [
        {
          "output_type": "stream",
          "name": "stdout",
          "text": [
            "5\n",
            "6\n",
            "5\n",
            "6\n"
          ]
        }
      ]
    },
    {
      "cell_type": "markdown",
      "source": [
        "Time function for example 3"
      ],
      "metadata": {
        "id": "FTjD3-d3Yx69"
      }
    },
    {
      "cell_type": "code",
      "source": [
        "import time\n",
        "start = time.time()\n",
        "print(\"Time elapsed on working...\")\n",
        "time.sleep(0.9)\n",
        "end = time.time()\n",
        "print(\"Time consumed in working: \",end - start)"
      ],
      "metadata": {
        "colab": {
          "base_uri": "https://localhost:8080/"
        },
        "id": "7mORBSVZYyVd",
        "outputId": "3d3f257a-ead5-4792-c2a3-c5cb0087539a"
      },
      "execution_count": null,
      "outputs": [
        {
          "output_type": "stream",
          "name": "stdout",
          "text": [
            "Time elapsed on working...\n",
            "Time consumed in working:  0.9031333923339844\n"
          ]
        }
      ]
    },
    {
      "cell_type": "markdown",
      "source": [
        "Python type()"
      ],
      "metadata": {
        "id": "ZXeuUa97gnP6"
      }
    },
    {
      "cell_type": "code",
      "source": [
        "prime_numbers = [2,3,5,7]\n",
        "result = type(prime_numbers)\n",
        "print(result)"
      ],
      "metadata": {
        "colab": {
          "base_uri": "https://localhost:8080/"
        },
        "id": "3XE_XP7ThUCn",
        "outputId": "0851d7b9-68fc-44e7-e927-2ee285497052"
      },
      "execution_count": null,
      "outputs": [
        {
          "output_type": "stream",
          "name": "stdout",
          "text": [
            "<class 'list'>\n"
          ]
        }
      ]
    },
    {
      "cell_type": "code",
      "source": [
        "numbers_list = [1, 2]\n",
        "print(type(numbers_list))\n",
        "numbers_dict = {1: 'One', 2: 'two'}\n",
        "print(type(numbers_dict))\n",
        "\n",
        "class Foo:\n",
        "  a = 0\n",
        "foo = Foo()\n",
        "print(type(foo))\n"
      ],
      "metadata": {
        "colab": {
          "base_uri": "https://localhost:8080/"
        },
        "id": "N2zD_bRuh_K_",
        "outputId": "776f7c0b-6b57-4160-b31c-99ca50b16f65"
      },
      "execution_count": null,
      "outputs": [
        {
          "output_type": "stream",
          "name": "stdout",
          "text": [
            "<class 'list'>\n",
            "<class 'dict'>\n",
            "<class '__main__.Foo'>\n"
          ]
        }
      ]
    },
    {
      "cell_type": "markdown",
      "source": [
        "example 2"
      ],
      "metadata": {
        "id": "xfYH0ZD4jQIw"
      }
    },
    {
      "cell_type": "code",
      "source": [
        "o1 = type('x', (object,), dict(a='Foo', b=12))\n",
        "print(type(o1))\n",
        "print(vars(o1))\n",
        "class test:\n",
        "  a = 'Foo'\n",
        "  b = '12'\n",
        "o2 = type('y', (test,), dict(a='Foo', b=12))\n",
        "print(type(o2))\n",
        "print(vars(o2))\n"
      ],
      "metadata": {
        "colab": {
          "base_uri": "https://localhost:8080/"
        },
        "id": "dV89g7K_jVFo",
        "outputId": "f1b8e151-dfb7-4b86-fd53-ec66150d67af"
      },
      "execution_count": null,
      "outputs": [
        {
          "output_type": "stream",
          "name": "stdout",
          "text": [
            "<class 'type'>\n",
            "{'a': 'Foo', 'b': 12, '__module__': '__main__', '__dict__': <attribute '__dict__' of 'x' objects>, '__weakref__': <attribute '__weakref__' of 'x' objects>, '__doc__': None}\n",
            "<class 'type'>\n",
            "{'a': 'Foo', 'b': 12, '__module__': '__main__', '__doc__': None}\n"
          ]
        }
      ]
    },
    {
      "cell_type": "markdown",
      "source": [
        "python setattr()"
      ],
      "metadata": {
        "id": "gFiEyTrJklnZ"
      }
    },
    {
      "cell_type": "code",
      "source": [
        "class Student:\n",
        "  marks = 88\n",
        "name = 'sheeran'\n",
        "person = Student()  \n",
        "setattr(person, 'name', 'Adam')\n",
        "print(person.name)\n",
        "setattr(person, 'marks', 78)\n",
        "print(person.marks)"
      ],
      "metadata": {
        "colab": {
          "base_uri": "https://localhost:8080/"
        },
        "id": "IHZC8KRVk1gQ",
        "outputId": "d7ea844f-3a1f-492e-b245-2a6015abe90e"
      },
      "execution_count": null,
      "outputs": [
        {
          "output_type": "stream",
          "name": "stdout",
          "text": [
            "Adam\n",
            "78\n"
          ]
        }
      ]
    },
    {
      "cell_type": "markdown",
      "source": [
        "setattr()  Return value"
      ],
      "metadata": {
        "id": "WN83oh0yl3JF"
      }
    },
    {
      "cell_type": "code",
      "source": [
        "class Person:\n",
        "  name = 'Adam'\n",
        "\n",
        "p = Person()\n",
        "print('Before modification:', p.name)\n",
        "\n",
        "# setting name to 'John'\n",
        "setattr(p, 'name', 'John')\n",
        "\n",
        "\n",
        "print('After modification:', p.name)\n"
      ],
      "metadata": {
        "colab": {
          "base_uri": "https://localhost:8080/"
        },
        "id": "Fz6YfFIcoUuP",
        "outputId": "e92f42d5-efb5-49f6-8479-50fd298adb0c"
      },
      "execution_count": null,
      "outputs": [
        {
          "output_type": "stream",
          "name": "stdout",
          "text": [
            "Before modification: Adam\n",
            "After modification: John\n"
          ]
        }
      ]
    },
    {
      "cell_type": "markdown",
      "source": [
        "When the attribute is not found in setattr()"
      ],
      "metadata": {
        "id": "T6ERztRzoaon"
      }
    },
    {
      "cell_type": "code",
      "source": [
        "class Person:\n",
        "   name = 'Adam'\n",
        "\n",
        "p = Person()\n",
        "\n",
        "# setting attribute name to John\n",
        "setattr(p, 'name', 'John')\n",
        "\n",
        "print('Name is:', p.name)\n",
        "\n",
        "# setting an attribute not present in Person\n",
        "setattr(p, 'age', 23)\n",
        "\n",
        "print('Age is:', p.age)\n"
      ],
      "metadata": {
        "colab": {
          "base_uri": "https://localhost:8080/"
        },
        "id": "MI1QHmvDodl5",
        "outputId": "8c64e41e-2b5d-44df-a0c9-7b4a345c9909"
      },
      "execution_count": null,
      "outputs": [
        {
          "output_type": "stream",
          "name": "stdout",
          "text": [
            "Name is: John\n",
            "Age is: 23\n"
          ]
        }
      ]
    },
    {
      "cell_type": "markdown",
      "source": [
        "Create tuples using tuple()"
      ],
      "metadata": {
        "id": "xkS5hEmBorI8"
      }
    },
    {
      "cell_type": "markdown",
      "source": [
        "\n"
      ],
      "metadata": {
        "id": "Z6uwK0ofouCL"
      }
    },
    {
      "cell_type": "code",
      "source": [
        "t1 = tuple()\n",
        "print('t1 =', t1)\n",
        "\n",
        "# creating a tuple from a list\n",
        "t2 = tuple([1, 4, 6])\n",
        "print('t2 =', t2)\n",
        "\n",
        "# creating a tuple from a string\n",
        "t1 = tuple('Python')\n",
        "print('t1 =',t1)\n",
        "\n",
        "# creating a tuple from a dictionary\n",
        "t1 = tuple({1: 'one', 2: 'two'})\n",
        "print('t1 =',t1)"
      ],
      "metadata": {
        "colab": {
          "base_uri": "https://localhost:8080/"
        },
        "id": "yCOkV4_foyxN",
        "outputId": "b0dac472-db04-4847-9228-e673cdc921b7"
      },
      "execution_count": null,
      "outputs": [
        {
          "output_type": "stream",
          "name": "stdout",
          "text": [
            "t1 = ()\n",
            "t2 = (1, 4, 6)\n",
            "t1 = ('P', 'y', 't', 'h', 'o', 'n')\n",
            "t1 = (1, 2)\n"
          ]
        }
      ]
    },
    {
      "cell_type": "markdown",
      "source": [
        "Python Arbitrary Arguments"
      ],
      "metadata": {
        "id": "3a6_2FuIo0ET"
      }
    },
    {
      "cell_type": "code",
      "source": [
        "def greet(*names):\n",
        "   for name in names:\n",
        "      print(\"Hello\", name)\n",
        "\n",
        "\n",
        "greet(\"Monica\",  \"Luke\", \"Steve\", \"John\")\n"
      ],
      "metadata": {
        "colab": {
          "base_uri": "https://localhost:8080/"
        },
        "id": "UFNwVcQdo5Ef",
        "outputId": "9ceefbae-3aab-4654-ae53-e0d1c1bea7e5"
      },
      "execution_count": null,
      "outputs": [
        {
          "output_type": "stream",
          "name": "stdout",
          "text": [
            "Hello Monica\n",
            "Hello Luke\n",
            "Hello Steve\n",
            "Hello John\n"
          ]
        }
      ]
    },
    {
      "cell_type": "markdown",
      "source": [
        "Defining a Class in Python"
      ],
      "metadata": {
        "id": "k9jNWu4ZqgpM"
      }
    },
    {
      "cell_type": "markdown",
      "source": [
        ""
      ],
      "metadata": {
        "id": "4hce1C73tVKy"
      }
    },
    {
      "cell_type": "markdown",
      "source": [
        ""
      ],
      "metadata": {
        "id": "2G_NcxErxsl0"
      }
    },
    {
      "cell_type": "code",
      "source": [
        "class Parrot:\n",
        "\n",
        "    # class attribute\n",
        "    species = \"bird\"\n",
        "\n",
        "    # instance attribute\n",
        "    def __init__(self, name, age):\n",
        "        self.name = name\n",
        "        self.age = age\n",
        "\n",
        "# instantiate the Parrot class\n",
        "blu = Parrot(\"Blu\", 10)\n",
        "woo = Parrot(\"Woo\", 15)\n",
        "\n",
        "# access the class attributes\n",
        "print(\"Blu is a {}\".format(blu.__class__.species))\n",
        "print(\"Woo is also a {}\".format(woo.__class__.species))\n",
        "\n",
        "# access the instance attributes\n",
        "print(\"{} is {} years old\".format( blu.name, blu.age))\n",
        "print(\"{} is {} years old\".format( woo.name, woo.age))"
      ],
      "metadata": {
        "colab": {
          "base_uri": "https://localhost:8080/"
        },
        "id": "1icpmoBdxtF0",
        "outputId": "b05bef1d-4cc3-4340-f27e-12eba72e299c"
      },
      "execution_count": null,
      "outputs": [
        {
          "output_type": "stream",
          "name": "stdout",
          "text": [
            "Blu is a bird\n",
            "Woo is also a bird\n",
            "Blu is 10 years old\n",
            "Woo is 15 years old\n"
          ]
        }
      ]
    },
    {
      "cell_type": "markdown",
      "source": [
        "definition a class in python"
      ],
      "metadata": {
        "id": "xWL-Ne5XyP8g"
      }
    },
    {
      "cell_type": "code",
      "source": [
        "class Person:\n",
        "    \"This is a person class\"\n",
        "    age = 10\n",
        "\n",
        "    def greet(self):\n",
        "        print('Hello')\n",
        "\n",
        "\n",
        "# Output: 10\n",
        "print(Person.age)\n",
        "\n",
        "# Output: <function Person.greet>\n",
        "print(Person.greet)\n",
        "\n",
        "# Output: \"This is a person class\"\n",
        "print(Person.__doc__)"
      ],
      "metadata": {
        "colab": {
          "base_uri": "https://localhost:8080/"
        },
        "id": "NTawKzLTyLWD",
        "outputId": "65de0949-d1ae-4a9a-c7b8-37974c6c8e13"
      },
      "execution_count": null,
      "outputs": [
        {
          "output_type": "stream",
          "name": "stdout",
          "text": [
            "10\n",
            "<function Person.greet at 0x7fcad9670a70>\n",
            "This is a person class\n"
          ]
        }
      ]
    },
    {
      "cell_type": "markdown",
      "source": [
        "creating an object in python"
      ],
      "metadata": {
        "id": "xTOjK0R-yiyp"
      }
    },
    {
      "cell_type": "code",
      "source": [
        "class Person:\n",
        "    \"This is a person class\"\n",
        "    age = 10\n",
        "\n",
        "    def greet(self):\n",
        "        print('Hello')\n",
        "\n",
        "\n",
        "# create a new object of Person class\n",
        "harry = Person()\n",
        "\n",
        "# Output: <function Person.greet>\n",
        "print(Person.greet)\n",
        "\n",
        "# Output: <bound method Person.greet of <__main__.Person object>>\n",
        "print(harry.greet)\n",
        "\n",
        "# Calling object's greet() method\n",
        "# Output: Hello\n",
        "harry.greet()"
      ],
      "metadata": {
        "colab": {
          "base_uri": "https://localhost:8080/"
        },
        "id": "VEVx8p4XyxUc",
        "outputId": "0f1f2937-9450-497f-87d9-943fa771a6d6"
      },
      "execution_count": null,
      "outputs": [
        {
          "output_type": "stream",
          "name": "stdout",
          "text": [
            "<function Person.greet at 0x7fcad9673560>\n",
            "<bound method Person.greet of <__main__.Person object at 0x7fcad9655190>>\n",
            "Hello\n"
          ]
        }
      ]
    },
    {
      "cell_type": "markdown",
      "source": [
        "constructors in python"
      ],
      "metadata": {
        "id": "Qfz3NBU8yzH-"
      }
    },
    {
      "cell_type": "code",
      "source": [
        "class ComplexNumber:\n",
        "    def __init__(self, r=0, i=0):\n",
        "        self.real = r\n",
        "        self.imag = i\n",
        "\n",
        "    def get_data(self):\n",
        "        print(f'{self.real}+{self.imag}j')\n",
        "\n",
        "\n",
        "# Create a new ComplexNumber object\n",
        "num1 = ComplexNumber(2, 3)\n",
        "\n",
        "# Call get_data() method\n",
        "# Output: 2+3j\n",
        "num1.get_data()\n",
        "\n",
        "# Create another ComplexNumber object\n",
        "# and create a new attribute 'attr'\n",
        "num2 = ComplexNumber(5)\n",
        "num2.attr = 10\n",
        "\n",
        "# Output: (5, 0, 10)\n",
        "print((num2.real, num2.imag, num2.attr))\n",
        "\n",
        "# but c1 object doesn't have attribute 'attr'\n",
        "# AttributeError: 'ComplexNumber' object has no attribute 'attr'\n",
        "print(num1.attr)"
      ],
      "metadata": {
        "colab": {
          "base_uri": "https://localhost:8080/",
          "height": 235
        },
        "id": "u-Ye_o42y-yp",
        "outputId": "bd84df2e-2804-4d58-92ff-ced10161fbe1"
      },
      "execution_count": null,
      "outputs": [
        {
          "output_type": "stream",
          "name": "stdout",
          "text": [
            "2+3j\n",
            "(5, 0, 10)\n"
          ]
        },
        {
          "output_type": "error",
          "ename": "AttributeError",
          "evalue": "ignored",
          "traceback": [
            "\u001b[0;31m---------------------------------------------------------------------------\u001b[0m",
            "\u001b[0;31mAttributeError\u001b[0m                            Traceback (most recent call last)",
            "\u001b[0;32m<ipython-input-142-afa66228e4bc>\u001b[0m in \u001b[0;36m<module>\u001b[0;34m()\u001b[0m\n\u001b[1;32m     25\u001b[0m \u001b[0;31m# but c1 object doesn't have attribute 'attr'\u001b[0m\u001b[0;34m\u001b[0m\u001b[0;34m\u001b[0m\u001b[0;34m\u001b[0m\u001b[0m\n\u001b[1;32m     26\u001b[0m \u001b[0;31m# AttributeError: 'ComplexNumber' object has no attribute 'attr'\u001b[0m\u001b[0;34m\u001b[0m\u001b[0;34m\u001b[0m\u001b[0;34m\u001b[0m\u001b[0m\n\u001b[0;32m---> 27\u001b[0;31m \u001b[0mprint\u001b[0m\u001b[0;34m(\u001b[0m\u001b[0mnum1\u001b[0m\u001b[0;34m.\u001b[0m\u001b[0mattr\u001b[0m\u001b[0;34m)\u001b[0m\u001b[0;34m\u001b[0m\u001b[0;34m\u001b[0m\u001b[0m\n\u001b[0m",
            "\u001b[0;31mAttributeError\u001b[0m: 'ComplexNumber' object has no attribute 'attr'"
          ]
        }
      ]
    },
    {
      "cell_type": "markdown",
      "source": [
        "inhertiance in python"
      ],
      "metadata": {
        "id": "dhoN-FVTEIZi"
      }
    },
    {
      "cell_type": "code",
      "source": [
        "class Polygon:\n",
        "    def __init__(self, no_of_sides):\n",
        "        self.n = no_of_sides\n",
        "        self.sides = [0 for i in range(no_of_sides)]\n",
        "\n",
        "    def inputSides(self):\n",
        "        self.sides = [float(input(\"Enter side \"+str(i+1)+\" : \")) \n",
        "        for i in range(self.n)]\n",
        "\n",
        "    def dispSides(self):\n",
        "        for i in range(self.n):\n",
        "               print(\"Side\",i+1,\"is\",self.sides[i])"
      ],
      "metadata": {
        "id": "GHrAl35RF91r"
      },
      "execution_count": 13,
      "outputs": []
    },
    {
      "cell_type": "markdown",
      "source": [
        "Mulitiple Inheritance"
      ],
      "metadata": {
        "id": "9JJqFaFfHff_"
      }
    },
    {
      "cell_type": "code",
      "source": [
        "print(issubclass(list,object))\n",
        "\n",
        "# Output: True\n",
        "print(isinstance(5.5,object))\n",
        "\n",
        "# Output: True\n",
        "print(isinstance(\"Hello\",object))"
      ],
      "metadata": {
        "colab": {
          "base_uri": "https://localhost:8080/"
        },
        "id": "VK4eXnTAHWpg",
        "outputId": "3320aca8-9339-448e-b04f-ee47938dfc69"
      },
      "execution_count": 21,
      "outputs": [
        {
          "output_type": "stream",
          "name": "stdout",
          "text": [
            "True\n",
            "True\n",
            "True\n"
          ]
        }
      ]
    },
    {
      "cell_type": "markdown",
      "source": [
        ""
      ],
      "metadata": {
        "id": "TF0_FS7OHi0y"
      }
    },
    {
      "cell_type": "code",
      "source": [
        "class X:\n",
        "    pass\n",
        "\n",
        "\n",
        "class Y:\n",
        "    pass\n",
        "\n",
        "\n",
        "class Z:\n",
        "    pass\n",
        "\n",
        "\n",
        "class A(X, Y):\n",
        "    pass\n",
        "\n",
        "\n",
        "class B(Y, Z):\n",
        "    pass\n",
        "\n",
        "\n",
        "class M(B, A, Z):\n",
        "    pass\n",
        "\n",
        "# Output:\n",
        "# [<class '__main__.M'>, <class '__main__.B'>,\n",
        "#  <class '__main__.A'>, <class '__main__.X'>,\n",
        "#  <class '__main__.Y'>, <class '__main__.Z'>,\n",
        "#  <class 'object'>]\n",
        "\n",
        "print(M.mro())"
      ],
      "metadata": {
        "colab": {
          "base_uri": "https://localhost:8080/"
        },
        "id": "ZTllMy3hHopK",
        "outputId": "4c65ec08-a019-4f36-ed14-76515b27b736"
      },
      "execution_count": 22,
      "outputs": [
        {
          "output_type": "stream",
          "name": "stdout",
          "text": [
            "[<class '__main__.M'>, <class '__main__.B'>, <class '__main__.A'>, <class '__main__.X'>, <class '__main__.Y'>, <class '__main__.Z'>, <class 'object'>]\n"
          ]
        }
      ]
    }
  ]
}