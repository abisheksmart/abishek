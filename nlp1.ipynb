{
  "nbformat": 4,
  "nbformat_minor": 0,
  "metadata": {
    "colab": {
      "name": "nlp1.ipynb",
      "provenance": [],
      "authorship_tag": "ABX9TyNdoDugKhiF8ruF4AuexvlE",
      "include_colab_link": true
    },
    "kernelspec": {
      "name": "python3",
      "display_name": "Python 3"
    },
    "language_info": {
      "name": "python"
    }
  },
  "cells": [
    {
      "cell_type": "markdown",
      "metadata": {
        "id": "view-in-github",
        "colab_type": "text"
      },
      "source": [
        "<a href=\"https://colab.research.google.com/github/abisheksmart/abishek/blob/main/nlp1.ipynb\" target=\"_parent\"><img src=\"https://colab.research.google.com/assets/colab-badge.svg\" alt=\"Open In Colab\"/></a>"
      ]
    },
    {
      "cell_type": "code",
      "execution_count": null,
      "metadata": {
        "colab": {
          "base_uri": "https://localhost:8080/"
        },
        "id": "_FnuY3YTUshu",
        "outputId": "75339629-b5c5-453b-c910-fac55693f9a5"
      },
      "outputs": [
        {
          "output_type": "stream",
          "name": "stdout",
          "text": [
            "Looking in indexes: https://pypi.org/simple, https://us-python.pkg.dev/colab-wheels/public/simple/\n",
            "Requirement already satisfied: polyglot in /usr/local/lib/python3.7/dist-packages (16.7.4)\n",
            "Looking in indexes: https://pypi.org/simple, https://us-python.pkg.dev/colab-wheels/public/simple/\n",
            "Requirement already satisfied: pyICU in /usr/local/lib/python3.7/dist-packages (2.9)\n",
            "Looking in indexes: https://pypi.org/simple, https://us-python.pkg.dev/colab-wheels/public/simple/\n",
            "Collecting pycld2\n",
            "  Downloading pycld2-0.41.tar.gz (41.4 MB)\n",
            "\u001b[K     |████████████████████████████████| 41.4 MB 1.4 MB/s \n",
            "\u001b[?25hBuilding wheels for collected packages: pycld2\n",
            "  Building wheel for pycld2 (setup.py) ... \u001b[?25l\u001b[?25hdone\n",
            "  Created wheel for pycld2: filename=pycld2-0.41-cp37-cp37m-linux_x86_64.whl size=9834293 sha256=01a725a8b0661311856d53a536b6a1f3cbdce396091f56f26f64d48ff24ae727\n",
            "  Stored in directory: /root/.cache/pip/wheels/ed/e4/58/ed2e9f43c07d617cc81fe7aff0fc6e42b16c9cf6afe960b614\n",
            "Successfully built pycld2\n",
            "Installing collected packages: pycld2\n",
            "Successfully installed pycld2-0.41\n",
            "Looking in indexes: https://pypi.org/simple, https://us-python.pkg.dev/colab-wheels/public/simple/\n",
            "Requirement already satisfied: Morfessor in /usr/local/lib/python3.7/dist-packages (2.0.6)\n",
            "Looking in indexes: https://pypi.org/simple, https://us-python.pkg.dev/colab-wheels/public/simple/\n",
            "Requirement already satisfied: polyglot in /usr/local/lib/python3.7/dist-packages (16.7.4)\n",
            "Requirement already satisfied: transliteration in /usr/local/lib/python3.7/dist-packages (0.4.1)\n",
            "Requirement already satisfied: setuptools in /usr/local/lib/python3.7/dist-packages (from transliteration) (57.4.0)\n",
            "Requirement already satisfied: silpa-common in /usr/local/lib/python3.7/dist-packages (from transliteration) (0.3)\n",
            "Requirement already satisfied: normalizer in /usr/local/lib/python3.7/dist-packages (from transliteration) (0.2.1)\n"
          ]
        }
      ],
      "source": [
        "!pip install polyglot\n",
        "!pip install pyICU\n",
        "!pip install pycld2\n",
        "!pip install Morfessor\n",
        "!pip install polyglot transliteration"
      ]
    },
    {
      "cell_type": "markdown",
      "source": [
        "muli language tokenziation"
      ],
      "metadata": {
        "id": "2BryxysrV8Be"
      }
    },
    {
      "cell_type": "code",
      "source": [
        "import polyglot\n",
        "from polyglot.text import Text"
      ],
      "metadata": {
        "id": "_NvwYhgWWHev"
      },
      "execution_count": null,
      "outputs": []
    },
    {
      "cell_type": "markdown",
      "source": [
        "Multi language processing part of speech "
      ],
      "metadata": {
        "id": "XP6MLD8dkkZz"
      }
    },
    {
      "cell_type": "code",
      "source": [
        "%%bash\n",
        "polyglot download embeddings2.en pos2.en"
      ],
      "metadata": {
        "colab": {
          "base_uri": "https://localhost:8080/"
        },
        "id": "i_R-xk_VamxO",
        "outputId": "cd3958d7-de7c-4cf9-a95d-383b02fa7533"
      },
      "execution_count": null,
      "outputs": [
        {
          "output_type": "stream",
          "name": "stdout",
          "text": [
            "[polyglot_data] Downloading package embeddings2.en to\n",
            "[polyglot_data]     /root/polyglot_data...\n",
            "[polyglot_data]   Package embeddings2.en is already up-to-date!\n",
            "[polyglot_data] Downloading package pos2.en to /root/polyglot_data...\n"
          ]
        }
      ]
    },
    {
      "cell_type": "code",
      "source": [
        "blob = \"\"\" US President Joe bidden and russian president vladmir putin may meet early 2022 in new york.\"\"\"\n",
        "text = Text(blob)\n",
        "print(text)\n",
        "text.words"
      ],
      "metadata": {
        "colab": {
          "base_uri": "https://localhost:8080/"
        },
        "id": "uh_uMbqBb8H-",
        "outputId": "e567d203-7dbb-4289-a260-a444b78d687c"
      },
      "execution_count": null,
      "outputs": [
        {
          "output_type": "stream",
          "name": "stdout",
          "text": [
            " US President Joe bidden and russian president vladmir putin may meet early 2022 in new york.\n"
          ]
        },
        {
          "output_type": "execute_result",
          "data": {
            "text/plain": [
              "WordList(['US', 'President', 'Joe', 'bidden', 'and', 'russian', 'president', 'vladmir', 'putin', 'may', 'meet', 'early', '2022', 'in', 'new', 'york', '.'])"
            ]
          },
          "metadata": {},
          "execution_count": 14
        }
      ]
    },
    {
      "cell_type": "code",
      "source": [
        "from polyglot.downloader import downloader\n",
        "print(downloader.supported_languages_table(\"ner2\", 3))"
      ],
      "metadata": {
        "colab": {
          "base_uri": "https://localhost:8080/"
        },
        "id": "wt72rO7adH0G",
        "outputId": "bbb6dc9a-cbd0-4572-86f9-c7d9b49b0186"
      },
      "execution_count": null,
      "outputs": [
        {
          "output_type": "stream",
          "name": "stdout",
          "text": [
            "  1. Italian                    2. Hindi                      3. French                   \n",
            "  4. Spanish; Castilian         5. Vietnamese                 6. Arabic                   \n",
            "  7. Bulgarian                  8. Norwegian                  9. Estonian                 \n",
            " 10. Japanese                  11. Greek, Modern             12. Slovene                  \n",
            " 13. Korean                    14. Serbian                   15. Finnish                  \n",
            " 16. Catalan; Valencian        17. Croatian                  18. Dutch                    \n",
            " 19. Swedish                   20. Tagalog                   21. Danish                   \n",
            " 22. Latvian                   23. Ukrainian                 24. Romanian, Moldavian, ... \n",
            " 25. Persian                   26. Slovak                    27. Portuguese               \n",
            " 28. English                   29. Malay                     30. Polish                   \n",
            " 31. German                    32. Indonesian                33. Chinese                  \n",
            " 34. Czech                     35. Hebrew (modern)           36. Lithuanian               \n",
            " 37. Turkish                   38. Hungarian                 39. Thai                     \n",
            " 40. Russian                  \n"
          ]
        }
      ]
    },
    {
      "cell_type": "markdown",
      "source": [
        "Multi language Entity Reconition"
      ],
      "metadata": {
        "id": "nlTU_Cweix7B"
      }
    },
    {
      "cell_type": "code",
      "source": [
        "text.entities"
      ],
      "metadata": {
        "colab": {
          "base_uri": "https://localhost:8080/"
        },
        "id": "xtCygx-Gdjd6",
        "outputId": "0c7ae60b-4b97-4e4a-e37d-7ee9149c9123"
      },
      "execution_count": null,
      "outputs": [
        {
          "output_type": "execute_result",
          "data": {
            "text/plain": [
              "[I-PER(['Joe', 'bidden']), I-PER(['vladmir', 'putin'])]"
            ]
          },
          "metadata": {},
          "execution_count": 16
        }
      ]
    },
    {
      "cell_type": "code",
      "source": [
        "for sent in text.sentences:\n",
        "  print (sent, \"\\n\")\n",
        "for entity in sent. entities:\n",
        "  print (entity.tag,entity)  "
      ],
      "metadata": {
        "colab": {
          "base_uri": "https://localhost:8080/"
        },
        "id": "2U022pc6ejhF",
        "outputId": "4bdeeab3-c9d1-4d7d-8cac-00b55be17f6a"
      },
      "execution_count": null,
      "outputs": [
        {
          "output_type": "stream",
          "name": "stdout",
          "text": [
            "US President Joe bidden and russian president vladmir putin may meet early 2022 in new york. \n",
            "\n",
            "I-PER ['Joe', 'bidden']\n",
            "I-PER ['vladmir', 'putin']\n"
          ]
        }
      ]
    },
    {
      "cell_type": "code",
      "source": [
        "entt = sent.entities[1]\n",
        "sent.words [entt.start: entt.end]"
      ],
      "metadata": {
        "colab": {
          "base_uri": "https://localhost:8080/"
        },
        "id": "QG6iMvYrgcAN",
        "outputId": "6807bc95-68ca-4ab8-ed8e-a0a4afbb5be2"
      },
      "execution_count": null,
      "outputs": [
        {
          "output_type": "execute_result",
          "data": {
            "text/plain": [
              "WordList(['vladmir', 'putin'])"
            ]
          },
          "metadata": {},
          "execution_count": 23
        }
      ]
    },
    {
      "cell_type": "markdown",
      "source": [
        "MULTI LANGUAGE PART OF SPEECH TAGGING"
      ],
      "metadata": {
        "id": "7Z9OX13yi66U"
      }
    },
    {
      "cell_type": "code",
      "source": [
        "from polyglot.text import Text\n",
        "blob = '''Biden and putin may meet in early 2022. If that sounds like deja vu, you're right.\n",
        "After Russia mobilized troops on Ukraine's border last April, a Bidden-putin summit took place in mid-June in Geneva.\n",
        "Long ago, North korea discovered that missile launches were an effective way of getting Washington,s attention'''\n",
        "text = Text(blob)\n",
        "text.pos_tags"
      ],
      "metadata": {
        "colab": {
          "base_uri": "https://localhost:8080/"
        },
        "id": "AZJZTi9ShMUC",
        "outputId": "b359c82f-34a8-4ce0-9fab-d06164de5b06"
      },
      "execution_count": null,
      "outputs": [
        {
          "output_type": "execute_result",
          "data": {
            "text/plain": [
              "[('Biden', 'PROPN'),\n",
              " ('and', 'CONJ'),\n",
              " ('putin', 'PROPN'),\n",
              " ('may', 'AUX'),\n",
              " ('meet', 'VERB'),\n",
              " ('in', 'ADP'),\n",
              " ('early', 'ADJ'),\n",
              " ('2022', 'NUM'),\n",
              " ('.', 'PUNCT'),\n",
              " ('If', 'SCONJ'),\n",
              " ('that', 'DET'),\n",
              " ('sounds', 'VERB'),\n",
              " ('like', 'ADP'),\n",
              " ('deja', 'ADJ'),\n",
              " ('vu', 'PROPN'),\n",
              " (',', 'PUNCT'),\n",
              " (\"you're\", 'ADV'),\n",
              " ('right', 'ADJ'),\n",
              " ('.', 'PUNCT'),\n",
              " ('After', 'ADP'),\n",
              " ('Russia', 'PROPN'),\n",
              " ('mobilized', 'VERB'),\n",
              " ('troops', 'NOUN'),\n",
              " ('on', 'ADP'),\n",
              " (\"Ukraine's\", 'NUM'),\n",
              " ('border', 'NOUN'),\n",
              " ('last', 'ADJ'),\n",
              " ('April', 'PROPN'),\n",
              " (',', 'PUNCT'),\n",
              " ('a', 'DET'),\n",
              " ('Bidden', 'NUM'),\n",
              " ('-', 'PUNCT'),\n",
              " ('putin', 'PROPN'),\n",
              " ('summit', 'NOUN'),\n",
              " ('took', 'VERB'),\n",
              " ('place', 'NOUN'),\n",
              " ('in', 'ADP'),\n",
              " ('mid', 'ADV'),\n",
              " ('-', 'PUNCT'),\n",
              " ('June', 'PROPN'),\n",
              " ('in', 'ADP'),\n",
              " ('Geneva', 'PROPN'),\n",
              " ('.', 'PUNCT'),\n",
              " ('Long', 'PROPN'),\n",
              " ('ago', 'ADV'),\n",
              " (',', 'PUNCT'),\n",
              " ('North', 'PROPN'),\n",
              " ('korea', 'PROPN'),\n",
              " ('discovered', 'VERB'),\n",
              " ('that', 'SCONJ'),\n",
              " ('missile', 'NOUN'),\n",
              " ('launches', 'NOUN'),\n",
              " ('were', 'VERB'),\n",
              " ('an', 'DET'),\n",
              " ('effective', 'ADJ'),\n",
              " ('way', 'NOUN'),\n",
              " ('of', 'ADP'),\n",
              " ('getting', 'VERB'),\n",
              " ('Washington', 'PROPN'),\n",
              " (',', 'PUNCT'),\n",
              " ('s', 'VERB'),\n",
              " ('attention', 'NOUN')]"
            ]
          },
          "metadata": {},
          "execution_count": 27
        }
      ]
    },
    {
      "cell_type": "code",
      "source": [
        "text.words[0].pos_tag"
      ],
      "metadata": {
        "colab": {
          "base_uri": "https://localhost:8080/",
          "height": 35
        },
        "id": "9X-Wtq2Lk89q",
        "outputId": "5dad21d2-3c6a-409b-85ae-02f7d792d7d0"
      },
      "execution_count": null,
      "outputs": [
        {
          "output_type": "execute_result",
          "data": {
            "text/plain": [
              "'PROPN'"
            ],
            "application/vnd.google.colaboratory.intrinsic+json": {
              "type": "string"
            }
          },
          "metadata": {},
          "execution_count": 30
        }
      ]
    },
    {
      "cell_type": "markdown",
      "source": [
        "Morophological Analysis (small unit of work in meanings) it have more than 135 language support including tamil unsupervised data finding morphomes using syntax automatic language creation and recongition"
      ],
      "metadata": {
        "id": "HpiiX-XznMnS"
      }
    },
    {
      "cell_type": "code",
      "source": [
        "#morphemes language coverage\n",
        "from polyglot.downloader import downloader\n",
        "print(downloader.supported_languages_table(\"morph2\"))"
      ],
      "metadata": {
        "colab": {
          "base_uri": "https://localhost:8080/"
        },
        "id": "kjR75PSxnjM4",
        "outputId": "f40559e3-e42f-4ffe-b5a2-c52aaf7351ea"
      },
      "execution_count": null,
      "outputs": [
        {
          "output_type": "stream",
          "name": "stdout",
          "text": [
            "  1. Kapampangan                2. Italian                    3. Upper Sorbian            \n",
            "  4. Sakha                      5. Hindi                      6. French                   \n",
            "  7. Spanish; Castilian         8. Vietnamese                 9. Arabic                   \n",
            " 10. Macedonian                11. Pashto, Pushto            12. Bosnian-Croatian-Serbian \n",
            " 13. Egyptian Arabic           14. Norwegian Nynorsk         15. Sundanese                \n",
            " 16. Sicilian                  17. Azerbaijani               18. Bulgarian                \n",
            " 19. Yoruba                    20. Tajik                     21. Georgian                 \n",
            " 22. Tatar                     23. Galician                  24. Malagasy                 \n",
            " 25. Uighur, Uyghur            26. Amharic                   27. Venetian                 \n",
            " 28. Yiddish                   29. Norwegian                 30. Alemannic                \n",
            " 31. Estonian                  32. West Flemish              33. Divehi; Dhivehi; Mald... \n",
            " 34. Japanese                  35. Ilokano                   36. Haitian; Haitian Creole  \n",
            " 37. Belarusian                38. Greek, Modern             39. Ossetian, Ossetic        \n",
            " 40. Welsh                     41. Malayalam                 42. Albanian                 \n",
            " 43. Marathi (Marāṭhī)         44. Armenian                  45. Slovene                  \n",
            " 46. Korean                    47. Breton                    48. Irish                    \n",
            " 49. Luxembourgish, Letzeb...  50. Bengali                   51. Serbian                  \n",
            " 52. Fiji Hindi                53. Javanese                  54. Finnish                  \n",
            " 55. Gan Chinese               56. Kirghiz, Kyrgyz           57. Catalan; Valencian       \n",
            " 58. Quechua                   59. Croatian                  60. Dutch                    \n",
            " 61. Swedish                   62. Ido                       63. Tagalog                  \n",
            " 64. Sanskrit (Saṁskṛta)       65. Piedmontese language      66. Asturian                 \n",
            " 67. Danish                    68. Cebuano                   69. Western Frisian          \n",
            " 70. Kannada                   71. Scots                     72. Maltese                  \n",
            " 73. Swahili                   74. Limburgish, Limburgan...  75. Waray-Waray              \n",
            " 76. Lombard language          77. Uzbek                     78. Kurdish                  \n",
            " 79. Latvian                   80. Burmese                   81. Aragonese                \n",
            " 82. Volapük                   83. Northern Sami             84. Faroese                  \n",
            " 85. Kazakh                    86. Telugu                    87. Ukrainian                \n",
            " 88. Assamese                  89. Chuvash                   90. Silesian                 \n",
            " 91. Turkmen                   92. Romanian, Moldavian, ...  93. Persian                  \n",
            " 94. Tibetan Standard, Tib...  95. Latin                     96. Slovak                   \n",
            " 97. Sinhala, Sinhalese        98. Bavarian                  99. Icelandic                \n",
            "100. Mongolian                101. Walloon                  102. Portuguese               \n",
            "103. Urdu                     104. Gujarati                 105. Manx                     \n",
            "106. Tamil                    107. Khmer                    108. English                  \n",
            "109. Malay                    110. Chechen                  111. Bishnupriya Manipuri     \n",
            "112. Afrikaans                113. Basque                   114. Polish                   \n",
            "115. German                   116. Esperanto                117. Indonesian               \n",
            "118. Occitan                  119. Chinese                  120. Czech                    \n",
            "121. Hebrew (modern)          122. Romansh                  123. Lithuanian               \n",
            "124. Turkish                  125. Nepali                   126. Bosnian                  \n",
            "127. Interlingua              128. Zazaki                   129. Oriya                    \n",
            "130. Hungarian                131. Scottish Gaelic; Gaelic  132. Bashkir                  \n",
            "133. Thai                     134. Panjabi, Punjabi         135. Russian                  \n",
            "\n"
          ]
        }
      ]
    },
    {
      "cell_type": "code",
      "source": [
        "%%bash\n",
        "polyglot download morph2.en morph2.ar\n",
        "polyglot download embeddings2.en pos2.en"
      ],
      "metadata": {
        "id": "BvmvE8uhMc0U"
      },
      "execution_count": null,
      "outputs": []
    },
    {
      "cell_type": "code",
      "source": [
        "!pip install polyglot download embeddings2.en pos2.en --upgrade packageName"
      ],
      "metadata": {
        "id": "UkR6uptjQgLh",
        "outputId": "36c4c52a-794b-48a2-c660-b448690854ca",
        "colab": {
          "base_uri": "https://localhost:8080/"
        }
      },
      "execution_count": 13,
      "outputs": [
        {
          "output_type": "stream",
          "name": "stdout",
          "text": [
            "Looking in indexes: https://pypi.org/simple, https://us-python.pkg.dev/colab-wheels/public/simple/\n",
            "Collecting polyglot\n",
            "  Using cached polyglot-16.7.4.tar.gz (126 kB)\n",
            "Collecting download\n",
            "  Downloading download-0.3.5-py3-none-any.whl (8.8 kB)\n",
            "\u001b[31mERROR: Could not find a version that satisfies the requirement embeddings2.en (from versions: none)\u001b[0m\n",
            "\u001b[31mERROR: No matching distribution found for embeddings2.en\u001b[0m\n"
          ]
        }
      ]
    },
    {
      "cell_type": "code",
      "source": [
        "!pip install tensor flow"
      ],
      "metadata": {
        "id": "0aKWKewfRZ-n",
        "outputId": "3c5b4019-0b02-447b-84af-3e8fceeeee64",
        "colab": {
          "base_uri": "https://localhost:8080/"
        }
      },
      "execution_count": 15,
      "outputs": [
        {
          "output_type": "stream",
          "name": "stdout",
          "text": [
            "Looking in indexes: https://pypi.org/simple, https://us-python.pkg.dev/colab-wheels/public/simple/\n",
            "Collecting tensor\n",
            "  Downloading tensor-0.3.6.tar.gz (50 kB)\n",
            "\u001b[K     |████████████████████████████████| 50 kB 3.3 MB/s \n",
            "\u001b[?25hCollecting flow\n",
            "  Downloading flow-0.0.1.tar.gz (5.2 kB)\n",
            "Collecting Twisted\n",
            "  Downloading Twisted-22.4.0-py3-none-any.whl (3.1 MB)\n",
            "\u001b[K     |████████████████████████████████| 3.1 MB 13.4 MB/s \n",
            "\u001b[?25hRequirement already satisfied: PyYaml in /usr/local/lib/python3.7/dist-packages (from tensor) (3.13)\n",
            "Requirement already satisfied: protobuf in /usr/local/lib/python3.7/dist-packages (from tensor) (3.17.3)\n",
            "Collecting construct\n",
            "  Downloading construct-2.10.68.tar.gz (57 kB)\n",
            "\u001b[K     |████████████████████████████████| 57 kB 6.2 MB/s \n",
            "\u001b[?25hCollecting pysnmp\n",
            "  Downloading pysnmp-4.4.12-py2.py3-none-any.whl (296 kB)\n",
            "\u001b[K     |████████████████████████████████| 296 kB 57.1 MB/s \n",
            "\u001b[?25hRequirement already satisfied: six>=1.9 in /usr/local/lib/python3.7/dist-packages (from protobuf->tensor) (1.15.0)\n",
            "Collecting pycryptodomex\n",
            "  Downloading pycryptodomex-3.14.1-cp35-abi3-manylinux2010_x86_64.whl (2.0 MB)\n",
            "\u001b[K     |████████████████████████████████| 2.0 MB 46.0 MB/s \n",
            "\u001b[?25hRequirement already satisfied: pyasn1>=0.2.3 in /usr/local/lib/python3.7/dist-packages (from pysnmp->tensor) (0.4.8)\n",
            "Collecting pysmi\n",
            "  Downloading pysmi-0.3.4-py2.py3-none-any.whl (80 kB)\n",
            "\u001b[K     |████████████████████████████████| 80 kB 9.0 MB/s \n",
            "\u001b[?25hCollecting ply\n",
            "  Downloading ply-3.11-py2.py3-none-any.whl (49 kB)\n",
            "\u001b[K     |████████████████████████████████| 49 kB 5.6 MB/s \n",
            "\u001b[?25hCollecting zope.interface>=4.4.2\n",
            "  Downloading zope.interface-5.4.0-cp37-cp37m-manylinux2010_x86_64.whl (251 kB)\n",
            "\u001b[K     |████████████████████████████████| 251 kB 55.9 MB/s \n",
            "\u001b[?25hCollecting Automat>=0.8.0\n",
            "  Downloading Automat-20.2.0-py2.py3-none-any.whl (31 kB)\n",
            "Collecting constantly>=15.1\n",
            "  Downloading constantly-15.1.0-py2.py3-none-any.whl (7.9 kB)\n",
            "Requirement already satisfied: typing-extensions>=3.6.5 in /usr/local/lib/python3.7/dist-packages (from Twisted->tensor) (4.2.0)\n",
            "Collecting hyperlink>=17.1.1\n",
            "  Downloading hyperlink-21.0.0-py2.py3-none-any.whl (74 kB)\n",
            "\u001b[K     |████████████████████████████████| 74 kB 3.4 MB/s \n",
            "\u001b[?25hCollecting incremental>=21.3.0\n",
            "  Downloading incremental-21.3.0-py2.py3-none-any.whl (15 kB)\n",
            "Requirement already satisfied: attrs>=19.2.0 in /usr/local/lib/python3.7/dist-packages (from Twisted->tensor) (21.4.0)\n",
            "Requirement already satisfied: idna>=2.5 in /usr/local/lib/python3.7/dist-packages (from hyperlink>=17.1.1->Twisted->tensor) (2.10)\n",
            "Requirement already satisfied: setuptools in /usr/local/lib/python3.7/dist-packages (from zope.interface>=4.4.2->Twisted->tensor) (57.4.0)\n",
            "Building wheels for collected packages: tensor, flow, construct\n",
            "  Building wheel for tensor (setup.py) ... \u001b[?25l\u001b[?25hdone\n",
            "  Created wheel for tensor: filename=tensor-0.3.6-py3-none-any.whl size=71568 sha256=b502bcfe2323148c207a8f5c42214b69dae4108649fbe825ff8c1202494da9bb\n",
            "  Stored in directory: /root/.cache/pip/wheels/66/49/9d/4c43e89065768fec7ab631d87d9ac21d619b6b0b3d45de1714\n",
            "  Building wheel for flow (setup.py) ... \u001b[?25l\u001b[?25hdone\n",
            "  Created wheel for flow: filename=flow-0.0.1-py3-none-any.whl size=7855 sha256=18fe24fd963881cb70c72045db683286d3e3967774b622b0c4c04e9feb602cf4\n",
            "  Stored in directory: /root/.cache/pip/wheels/e3/ab/9a/53024fd44a76f44625911f276dd2293fc9f69da0d62635ef2a\n",
            "  Building wheel for construct (setup.py) ... \u001b[?25l\u001b[?25hdone\n",
            "  Created wheel for construct: filename=construct-2.10.68-py3-none-any.whl size=59227 sha256=9a3151d8762c358ca215f1363a2efb2f00fa4784bbbb01b4accb769ecd598c9d\n",
            "  Stored in directory: /root/.cache/pip/wheels/32/b9/a0/30cd99f34b5d16190994a5a110d32c44712dd33507e7de2fad\n",
            "Successfully built tensor flow construct\n",
            "Installing collected packages: ply, zope.interface, pysmi, pycryptodomex, incremental, hyperlink, constantly, Automat, Twisted, pysnmp, construct, tensor, flow\n",
            "Successfully installed Automat-20.2.0 Twisted-22.4.0 constantly-15.1.0 construct-2.10.68 flow-0.0.1 hyperlink-21.0.0 incremental-21.3.0 ply-3.11 pycryptodomex-3.14.1 pysmi-0.3.4 pysnmp-4.4.12 tensor-0.3.6 zope.interface-5.4.0\n"
          ]
        }
      ]
    }
  ]
}