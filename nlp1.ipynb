{
  "nbformat": 4,
  "nbformat_minor": 0,
  "metadata": {
    "colab": {
      "name": "nlp1.ipynb",
      "provenance": [],
      "authorship_tag": "ABX9TyNDOrXZvRfO0KKb02BSAyLD",
      "include_colab_link": true
    },
    "kernelspec": {
      "name": "python3",
      "display_name": "Python 3"
    },
    "language_info": {
      "name": "python"
    }
  },
  "cells": [
    {
      "cell_type": "markdown",
      "metadata": {
        "id": "view-in-github",
        "colab_type": "text"
      },
      "source": [
        "<a href=\"https://colab.research.google.com/github/abisheksmart/abishek/blob/main/nlp1.ipynb\" target=\"_parent\"><img src=\"https://colab.research.google.com/assets/colab-badge.svg\" alt=\"Open In Colab\"/></a>"
      ]
    },
    {
      "cell_type": "code",
      "execution_count": null,
      "metadata": {
        "colab": {
          "base_uri": "https://localhost:8080/"
        },
        "id": "_FnuY3YTUshu",
        "outputId": "75339629-b5c5-453b-c910-fac55693f9a5"
      },
      "outputs": [
        {
          "output_type": "stream",
          "name": "stdout",
          "text": [
            "Looking in indexes: https://pypi.org/simple, https://us-python.pkg.dev/colab-wheels/public/simple/\n",
            "Requirement already satisfied: polyglot in /usr/local/lib/python3.7/dist-packages (16.7.4)\n",
            "Looking in indexes: https://pypi.org/simple, https://us-python.pkg.dev/colab-wheels/public/simple/\n",
            "Requirement already satisfied: pyICU in /usr/local/lib/python3.7/dist-packages (2.9)\n",
            "Looking in indexes: https://pypi.org/simple, https://us-python.pkg.dev/colab-wheels/public/simple/\n",
            "Collecting pycld2\n",
            "  Downloading pycld2-0.41.tar.gz (41.4 MB)\n",
            "\u001b[K     |████████████████████████████████| 41.4 MB 1.4 MB/s \n",
            "\u001b[?25hBuilding wheels for collected packages: pycld2\n",
            "  Building wheel for pycld2 (setup.py) ... \u001b[?25l\u001b[?25hdone\n",
            "  Created wheel for pycld2: filename=pycld2-0.41-cp37-cp37m-linux_x86_64.whl size=9834293 sha256=01a725a8b0661311856d53a536b6a1f3cbdce396091f56f26f64d48ff24ae727\n",
            "  Stored in directory: /root/.cache/pip/wheels/ed/e4/58/ed2e9f43c07d617cc81fe7aff0fc6e42b16c9cf6afe960b614\n",
            "Successfully built pycld2\n",
            "Installing collected packages: pycld2\n",
            "Successfully installed pycld2-0.41\n",
            "Looking in indexes: https://pypi.org/simple, https://us-python.pkg.dev/colab-wheels/public/simple/\n",
            "Requirement already satisfied: Morfessor in /usr/local/lib/python3.7/dist-packages (2.0.6)\n",
            "Looking in indexes: https://pypi.org/simple, https://us-python.pkg.dev/colab-wheels/public/simple/\n",
            "Requirement already satisfied: polyglot in /usr/local/lib/python3.7/dist-packages (16.7.4)\n",
            "Requirement already satisfied: transliteration in /usr/local/lib/python3.7/dist-packages (0.4.1)\n",
            "Requirement already satisfied: setuptools in /usr/local/lib/python3.7/dist-packages (from transliteration) (57.4.0)\n",
            "Requirement already satisfied: silpa-common in /usr/local/lib/python3.7/dist-packages (from transliteration) (0.3)\n",
            "Requirement already satisfied: normalizer in /usr/local/lib/python3.7/dist-packages (from transliteration) (0.2.1)\n"
          ]
        }
      ],
      "source": [
        "!pip install polyglot\n",
        "!pip install pyICU\n",
        "!pip install pycld2\n",
        "!pip install Morfessor\n",
        "!pip install polyglot transliteration"
      ]
    },
    {
      "cell_type": "markdown",
      "source": [
        "muli language tokenziation"
      ],
      "metadata": {
        "id": "2BryxysrV8Be"
      }
    },
    {
      "cell_type": "code",
      "source": [
        "import polyglot\n",
        "from polyglot.text import Text"
      ],
      "metadata": {
        "id": "_NvwYhgWWHev"
      },
      "execution_count": null,
      "outputs": []
    },
    {
      "cell_type": "markdown",
      "source": [
        "Multi language processing part of speech "
      ],
      "metadata": {
        "id": "XP6MLD8dkkZz"
      }
    },
    {
      "cell_type": "code",
      "source": [
        "%%bash\n",
        "polyglot download embeddings2.en pos2.en"
      ],
      "metadata": {
        "colab": {
          "base_uri": "https://localhost:8080/"
        },
        "id": "i_R-xk_VamxO",
        "outputId": "cd3958d7-de7c-4cf9-a95d-383b02fa7533"
      },
      "execution_count": null,
      "outputs": [
        {
          "output_type": "stream",
          "name": "stdout",
          "text": [
            "[polyglot_data] Downloading package embeddings2.en to\n",
            "[polyglot_data]     /root/polyglot_data...\n",
            "[polyglot_data]   Package embeddings2.en is already up-to-date!\n",
            "[polyglot_data] Downloading package pos2.en to /root/polyglot_data...\n"
          ]
        }
      ]
    },
    {
      "cell_type": "code",
      "source": [
        "blob = \"\"\" US President Joe bidden and russian president vladmir putin may meet early 2022 in new york.\"\"\"\n",
        "text = Text(blob)\n",
        "print(text)\n",
        "text.words"
      ],
      "metadata": {
        "colab": {
          "base_uri": "https://localhost:8080/"
        },
        "id": "uh_uMbqBb8H-",
        "outputId": "e567d203-7dbb-4289-a260-a444b78d687c"
      },
      "execution_count": null,
      "outputs": [
        {
          "output_type": "stream",
          "name": "stdout",
          "text": [
            " US President Joe bidden and russian president vladmir putin may meet early 2022 in new york.\n"
          ]
        },
        {
          "output_type": "execute_result",
          "data": {
            "text/plain": [
              "WordList(['US', 'President', 'Joe', 'bidden', 'and', 'russian', 'president', 'vladmir', 'putin', 'may', 'meet', 'early', '2022', 'in', 'new', 'york', '.'])"
            ]
          },
          "metadata": {},
          "execution_count": 14
        }
      ]
    },
    {
      "cell_type": "code",
      "source": [
        "from polyglot.downloader import downloader\n",
        "print(downloader.supported_languages_table(\"ner2\", 3))"
      ],
      "metadata": {
        "colab": {
          "base_uri": "https://localhost:8080/"
        },
        "id": "wt72rO7adH0G",
        "outputId": "bbb6dc9a-cbd0-4572-86f9-c7d9b49b0186"
      },
      "execution_count": null,
      "outputs": [
        {
          "output_type": "stream",
          "name": "stdout",
          "text": [
            "  1. Italian                    2. Hindi                      3. French                   \n",
            "  4. Spanish; Castilian         5. Vietnamese                 6. Arabic                   \n",
            "  7. Bulgarian                  8. Norwegian                  9. Estonian                 \n",
            " 10. Japanese                  11. Greek, Modern             12. Slovene                  \n",
            " 13. Korean                    14. Serbian                   15. Finnish                  \n",
            " 16. Catalan; Valencian        17. Croatian                  18. Dutch                    \n",
            " 19. Swedish                   20. Tagalog                   21. Danish                   \n",
            " 22. Latvian                   23. Ukrainian                 24. Romanian, Moldavian, ... \n",
            " 25. Persian                   26. Slovak                    27. Portuguese               \n",
            " 28. English                   29. Malay                     30. Polish                   \n",
            " 31. German                    32. Indonesian                33. Chinese                  \n",
            " 34. Czech                     35. Hebrew (modern)           36. Lithuanian               \n",
            " 37. Turkish                   38. Hungarian                 39. Thai                     \n",
            " 40. Russian                  \n"
          ]
        }
      ]
    },
    {
      "cell_type": "markdown",
      "source": [
        "Multi language Entity Reconition"
      ],
      "metadata": {
        "id": "nlTU_Cweix7B"
      }
    },
    {
      "cell_type": "code",
      "source": [
        "text.entities"
      ],
      "metadata": {
        "colab": {
          "base_uri": "https://localhost:8080/"
        },
        "id": "xtCygx-Gdjd6",
        "outputId": "0c7ae60b-4b97-4e4a-e37d-7ee9149c9123"
      },
      "execution_count": null,
      "outputs": [
        {
          "output_type": "execute_result",
          "data": {
            "text/plain": [
              "[I-PER(['Joe', 'bidden']), I-PER(['vladmir', 'putin'])]"
            ]
          },
          "metadata": {},
          "execution_count": 16
        }
      ]
    },
    {
      "cell_type": "code",
      "source": [
        "for sent in text.sentences:\n",
        "  print (sent, \"\\n\")\n",
        "for entity in sent. entities:\n",
        "  print (entity.tag,entity)  "
      ],
      "metadata": {
        "colab": {
          "base_uri": "https://localhost:8080/"
        },
        "id": "2U022pc6ejhF",
        "outputId": "4bdeeab3-c9d1-4d7d-8cac-00b55be17f6a"
      },
      "execution_count": null,
      "outputs": [
        {
          "output_type": "stream",
          "name": "stdout",
          "text": [
            "US President Joe bidden and russian president vladmir putin may meet early 2022 in new york. \n",
            "\n",
            "I-PER ['Joe', 'bidden']\n",
            "I-PER ['vladmir', 'putin']\n"
          ]
        }
      ]
    },
    {
      "cell_type": "code",
      "source": [
        "entt = sent.entities[1]\n",
        "sent.words [entt.start: entt.end]"
      ],
      "metadata": {
        "colab": {
          "base_uri": "https://localhost:8080/"
        },
        "id": "QG6iMvYrgcAN",
        "outputId": "6807bc95-68ca-4ab8-ed8e-a0a4afbb5be2"
      },
      "execution_count": null,
      "outputs": [
        {
          "output_type": "execute_result",
          "data": {
            "text/plain": [
              "WordList(['vladmir', 'putin'])"
            ]
          },
          "metadata": {},
          "execution_count": 23
        }
      ]
    },
    {
      "cell_type": "markdown",
      "source": [
        "MULTI LANGUAGE PART OF SPEECH TAGGING"
      ],
      "metadata": {
        "id": "7Z9OX13yi66U"
      }
    },
    {
      "cell_type": "code",
      "source": [
        "from polyglot.text import Text\n",
        "blob = '''Biden and putin may meet in early 2022. If that sounds like deja vu, you're right.\n",
        "After Russia mobilized troops on Ukraine's border last April, a Bidden-putin summit took place in mid-June in Geneva.\n",
        "Long ago, North korea discovered that missile launches were an effective way of getting Washington,s attention'''\n",
        "text = Text(blob)\n",
        "text.pos_tags"
      ],
      "metadata": {
        "colab": {
          "base_uri": "https://localhost:8080/"
        },
        "id": "AZJZTi9ShMUC",
        "outputId": "b359c82f-34a8-4ce0-9fab-d06164de5b06"
      },
      "execution_count": null,
      "outputs": [
        {
          "output_type": "execute_result",
          "data": {
            "text/plain": [
              "[('Biden', 'PROPN'),\n",
              " ('and', 'CONJ'),\n",
              " ('putin', 'PROPN'),\n",
              " ('may', 'AUX'),\n",
              " ('meet', 'VERB'),\n",
              " ('in', 'ADP'),\n",
              " ('early', 'ADJ'),\n",
              " ('2022', 'NUM'),\n",
              " ('.', 'PUNCT'),\n",
              " ('If', 'SCONJ'),\n",
              " ('that', 'DET'),\n",
              " ('sounds', 'VERB'),\n",
              " ('like', 'ADP'),\n",
              " ('deja', 'ADJ'),\n",
              " ('vu', 'PROPN'),\n",
              " (',', 'PUNCT'),\n",
              " (\"you're\", 'ADV'),\n",
              " ('right', 'ADJ'),\n",
              " ('.', 'PUNCT'),\n",
              " ('After', 'ADP'),\n",
              " ('Russia', 'PROPN'),\n",
              " ('mobilized', 'VERB'),\n",
              " ('troops', 'NOUN'),\n",
              " ('on', 'ADP'),\n",
              " (\"Ukraine's\", 'NUM'),\n",
              " ('border', 'NOUN'),\n",
              " ('last', 'ADJ'),\n",
              " ('April', 'PROPN'),\n",
              " (',', 'PUNCT'),\n",
              " ('a', 'DET'),\n",
              " ('Bidden', 'NUM'),\n",
              " ('-', 'PUNCT'),\n",
              " ('putin', 'PROPN'),\n",
              " ('summit', 'NOUN'),\n",
              " ('took', 'VERB'),\n",
              " ('place', 'NOUN'),\n",
              " ('in', 'ADP'),\n",
              " ('mid', 'ADV'),\n",
              " ('-', 'PUNCT'),\n",
              " ('June', 'PROPN'),\n",
              " ('in', 'ADP'),\n",
              " ('Geneva', 'PROPN'),\n",
              " ('.', 'PUNCT'),\n",
              " ('Long', 'PROPN'),\n",
              " ('ago', 'ADV'),\n",
              " (',', 'PUNCT'),\n",
              " ('North', 'PROPN'),\n",
              " ('korea', 'PROPN'),\n",
              " ('discovered', 'VERB'),\n",
              " ('that', 'SCONJ'),\n",
              " ('missile', 'NOUN'),\n",
              " ('launches', 'NOUN'),\n",
              " ('were', 'VERB'),\n",
              " ('an', 'DET'),\n",
              " ('effective', 'ADJ'),\n",
              " ('way', 'NOUN'),\n",
              " ('of', 'ADP'),\n",
              " ('getting', 'VERB'),\n",
              " ('Washington', 'PROPN'),\n",
              " (',', 'PUNCT'),\n",
              " ('s', 'VERB'),\n",
              " ('attention', 'NOUN')]"
            ]
          },
          "metadata": {},
          "execution_count": 27
        }
      ]
    },
    {
      "cell_type": "code",
      "source": [
        "text.words[0].pos_tag"
      ],
      "metadata": {
        "colab": {
          "base_uri": "https://localhost:8080/",
          "height": 35
        },
        "id": "9X-Wtq2Lk89q",
        "outputId": "5dad21d2-3c6a-409b-85ae-02f7d792d7d0"
      },
      "execution_count": null,
      "outputs": [
        {
          "output_type": "execute_result",
          "data": {
            "text/plain": [
              "'PROPN'"
            ],
            "application/vnd.google.colaboratory.intrinsic+json": {
              "type": "string"
            }
          },
          "metadata": {},
          "execution_count": 30
        }
      ]
    },
    {
      "cell_type": "markdown",
      "source": [
        "Morophological Analysis (small unit of work in meanings) it have more than 135 language support including tamil unsupervised data finding morphomes using syntax automatic language creation and recongition"
      ],
      "metadata": {
        "id": "HpiiX-XznMnS"
      }
    },
    {
      "cell_type": "code",
      "source": [
        "#morphemes language coverage\n",
        "from polyglot.downloader import downloader\n",
        "print(downloader.supported_languages_table(\"morph2\"))"
      ],
      "metadata": {
        "colab": {
          "base_uri": "https://localhost:8080/"
        },
        "id": "kjR75PSxnjM4",
        "outputId": "f40559e3-e42f-4ffe-b5a2-c52aaf7351ea"
      },
      "execution_count": null,
      "outputs": [
        {
          "output_type": "stream",
          "name": "stdout",
          "text": [
            "  1. Kapampangan                2. Italian                    3. Upper Sorbian            \n",
            "  4. Sakha                      5. Hindi                      6. French                   \n",
            "  7. Spanish; Castilian         8. Vietnamese                 9. Arabic                   \n",
            " 10. Macedonian                11. Pashto, Pushto            12. Bosnian-Croatian-Serbian \n",
            " 13. Egyptian Arabic           14. Norwegian Nynorsk         15. Sundanese                \n",
            " 16. Sicilian                  17. Azerbaijani               18. Bulgarian                \n",
            " 19. Yoruba                    20. Tajik                     21. Georgian                 \n",
            " 22. Tatar                     23. Galician                  24. Malagasy                 \n",
            " 25. Uighur, Uyghur            26. Amharic                   27. Venetian                 \n",
            " 28. Yiddish                   29. Norwegian                 30. Alemannic                \n",
            " 31. Estonian                  32. West Flemish              33. Divehi; Dhivehi; Mald... \n",
            " 34. Japanese                  35. Ilokano                   36. Haitian; Haitian Creole  \n",
            " 37. Belarusian                38. Greek, Modern             39. Ossetian, Ossetic        \n",
            " 40. Welsh                     41. Malayalam                 42. Albanian                 \n",
            " 43. Marathi (Marāṭhī)         44. Armenian                  45. Slovene                  \n",
            " 46. Korean                    47. Breton                    48. Irish                    \n",
            " 49. Luxembourgish, Letzeb...  50. Bengali                   51. Serbian                  \n",
            " 52. Fiji Hindi                53. Javanese                  54. Finnish                  \n",
            " 55. Gan Chinese               56. Kirghiz, Kyrgyz           57. Catalan; Valencian       \n",
            " 58. Quechua                   59. Croatian                  60. Dutch                    \n",
            " 61. Swedish                   62. Ido                       63. Tagalog                  \n",
            " 64. Sanskrit (Saṁskṛta)       65. Piedmontese language      66. Asturian                 \n",
            " 67. Danish                    68. Cebuano                   69. Western Frisian          \n",
            " 70. Kannada                   71. Scots                     72. Maltese                  \n",
            " 73. Swahili                   74. Limburgish, Limburgan...  75. Waray-Waray              \n",
            " 76. Lombard language          77. Uzbek                     78. Kurdish                  \n",
            " 79. Latvian                   80. Burmese                   81. Aragonese                \n",
            " 82. Volapük                   83. Northern Sami             84. Faroese                  \n",
            " 85. Kazakh                    86. Telugu                    87. Ukrainian                \n",
            " 88. Assamese                  89. Chuvash                   90. Silesian                 \n",
            " 91. Turkmen                   92. Romanian, Moldavian, ...  93. Persian                  \n",
            " 94. Tibetan Standard, Tib...  95. Latin                     96. Slovak                   \n",
            " 97. Sinhala, Sinhalese        98. Bavarian                  99. Icelandic                \n",
            "100. Mongolian                101. Walloon                  102. Portuguese               \n",
            "103. Urdu                     104. Gujarati                 105. Manx                     \n",
            "106. Tamil                    107. Khmer                    108. English                  \n",
            "109. Malay                    110. Chechen                  111. Bishnupriya Manipuri     \n",
            "112. Afrikaans                113. Basque                   114. Polish                   \n",
            "115. German                   116. Esperanto                117. Indonesian               \n",
            "118. Occitan                  119. Chinese                  120. Czech                    \n",
            "121. Hebrew (modern)          122. Romansh                  123. Lithuanian               \n",
            "124. Turkish                  125. Nepali                   126. Bosnian                  \n",
            "127. Interlingua              128. Zazaki                   129. Oriya                    \n",
            "130. Hungarian                131. Scottish Gaelic; Gaelic  132. Bashkir                  \n",
            "133. Thai                     134. Panjabi, Punjabi         135. Russian                  \n",
            "\n"
          ]
        }
      ]
    },
    {
      "cell_type": "code",
      "source": [
        "from polyglot.text import Text,Word"
      ],
      "metadata": {
        "id": "OSdqVTEN2nCW"
      },
      "execution_count": 70,
      "outputs": []
    },
    {
      "cell_type": "code",
      "source": [
        "#Word segmentation\n",
        "words = [\"preprocessing\", \"processor\", \" invaluable\", \"thankful\", \"crossed\"]\n",
        "for w in words:\n",
        "    w = Word(w,language=\"en\")\n",
        " print(\"{:<15}{}\".format(w, w.morphemes)):"
      ],
      "metadata": {
        "colab": {
          "base_uri": "https://localhost:8080/",
          "height": 130
        },
        "id": "N3wjzVRs1gD2",
        "outputId": "b9852f0e-4bd0-45fc-d0a0-5d01c332b969"
      },
      "execution_count": 75,
      "outputs": [
        {
          "output_type": "error",
          "ename": "IndentationError",
          "evalue": "ignored",
          "traceback": [
            "\u001b[0;36m  File \u001b[0;32m\"<ipython-input-75-d13069ce97db>\"\u001b[0;36m, line \u001b[0;32m5\u001b[0m\n\u001b[0;31m    print(\"{:<15}{}\".format(w, w.morphemes)):\u001b[0m\n\u001b[0m                                             ^\u001b[0m\n\u001b[0;31mIndentationError\u001b[0m\u001b[0;31m:\u001b[0m unindent does not match any outer indentation level\n"
          ]
        }
      ]
    }
  ]
}