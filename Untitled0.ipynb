{
  "nbformat": 4,
  "nbformat_minor": 0,
  "metadata": {
    "colab": {
      "name": "Untitled0.ipynb",
      "provenance": [],
      "collapsed_sections": [],
      "authorship_tag": "ABX9TyOAJb5eOMN/0de1H3TYka5N",
      "include_colab_link": true
    },
    "kernelspec": {
      "name": "python3",
      "display_name": "Python 3"
    },
    "language_info": {
      "name": "python"
    }
  },
  "cells": [
    {
      "cell_type": "markdown",
      "metadata": {
        "id": "view-in-github",
        "colab_type": "text"
      },
      "source": [
        "<a href=\"https://colab.research.google.com/github/abisheksmart/abishek/blob/main/Untitled0.ipynb\" target=\"_parent\"><img src=\"https://colab.research.google.com/assets/colab-badge.svg\" alt=\"Open In Colab\"/></a>"
      ]
    },
    {
      "cell_type": "markdown",
      "source": [
        "calling a function"
      ],
      "metadata": {
        "id": "P9l3BCnrDLNw"
      }
    },
    {
      "cell_type": "code",
      "execution_count": null,
      "metadata": {
        "colab": {
          "base_uri": "https://localhost:8080/"
        },
        "id": "UnFnjT62-brK",
        "outputId": "9523ab02-b28a-46b6-8c83-170abb71b27e"
      },
      "outputs": [
        {
          "output_type": "stream",
          "name": "stdout",
          "text": [
            "I'm first call to user defined function!\n",
            "Again second call to the same function\n"
          ]
        }
      ],
      "source": [
        "def printme( str ):\n",
        "  \"This prints a passed string into this function\"\n",
        "  print ( str )\n",
        "  return\n",
        "printme(\"I'm first call to user defined function!\")\n",
        "printme(\"Again second call to the same function\")  "
      ]
    },
    {
      "cell_type": "markdown",
      "source": [
        "pass by reference vs value"
      ],
      "metadata": {
        "id": "xLAP3KIHDQrm"
      }
    },
    {
      "cell_type": "code",
      "source": [
        "def changeme( mylist ):\n",
        "  \"This changes a passed list into this function\"\n",
        "  mylist.append([1,2,3,4]);\n",
        "  print (\"Values inside the function:\"),mylist\n",
        "  return\n",
        "mylist = [10,20,30];\n",
        "changeme ( mylist );\n",
        "print (\"Values outside the function:\"),mylist "
      ],
      "metadata": {
        "colab": {
          "base_uri": "https://localhost:8080/"
        },
        "id": "pt14mYBd_Q-0",
        "outputId": "b76436af-ee46-42ac-938a-657dc3a98fce"
      },
      "execution_count": null,
      "outputs": [
        {
          "output_type": "stream",
          "name": "stdout",
          "text": [
            "Values inside the function:\n",
            "Values outside the function:\n"
          ]
        },
        {
          "output_type": "execute_result",
          "data": {
            "text/plain": [
              "(None, [10, 20, 30, [1, 2, 3, 4]])"
            ]
          },
          "metadata": {},
          "execution_count": 23
        }
      ]
    },
    {
      "cell_type": "markdown",
      "source": [
        "function Arguments"
      ],
      "metadata": {
        "id": "O-bJpYhQDEj3"
      }
    },
    {
      "cell_type": "code",
      "source": [
        "\n",
        "def printme( str ):\n",
        "  \"This prints a passed string into this function\"\n",
        "  print ( str )\n",
        "  return;\n",
        "printme( str = \"My string\")  \n"
      ],
      "metadata": {
        "colab": {
          "base_uri": "https://localhost:8080/"
        },
        "id": "hclQO12-DIZg",
        "outputId": "067e7355-d3b8-4444-e55f-07edaa0bfafa"
      },
      "execution_count": null,
      "outputs": [
        {
          "output_type": "stream",
          "name": "stdout",
          "text": [
            "My string\n"
          ]
        }
      ]
    },
    {
      "cell_type": "markdown",
      "source": [
        ""
      ],
      "metadata": {
        "id": "94eZg0ekEG-a"
      }
    },
    {
      "cell_type": "code",
      "source": [
        "def printinfo( name, age ):\n",
        "  \"This prints a passed info into this function\"\n",
        "  print (\"Name: \", name)\n",
        "  print (\"Age \", age)\n",
        "  return;\n",
        "printinfo( age=50, name=\"miki\" )  "
      ],
      "metadata": {
        "colab": {
          "base_uri": "https://localhost:8080/"
        },
        "id": "95MkQz0sE6ya",
        "outputId": "40ee08b7-5767-47cb-9150-ea0a5dfc0780"
      },
      "execution_count": null,
      "outputs": [
        {
          "output_type": "stream",
          "name": "stdout",
          "text": [
            "Name:  miki\n",
            "Age  50\n"
          ]
        }
      ]
    },
    {
      "cell_type": "markdown",
      "source": [
        " Default arguments"
      ],
      "metadata": {
        "id": "jBimRWHLF5cy"
      }
    },
    {
      "cell_type": "code",
      "source": [
        "def printinfo( name, age = 35 ):\n",
        "  \"This prints a passed info into this function\"\n",
        "  print (\"Name: \",name)\n",
        "  print (\"Age \",age)\n",
        "  return;\n",
        "printinfo( age=50, name=\"miki\")\n",
        "printinfo( name=\"vicky\" )  "
      ],
      "metadata": {
        "colab": {
          "base_uri": "https://localhost:8080/"
        },
        "id": "ju1AuJDTF_WW",
        "outputId": "bc9be5ab-0b6f-4493-edbb-66af103e807f"
      },
      "execution_count": null,
      "outputs": [
        {
          "output_type": "stream",
          "name": "stdout",
          "text": [
            "Name:  miki\n",
            "Age  50\n",
            "Name:  vicky\n",
            "Age  35\n"
          ]
        }
      ]
    },
    {
      "cell_type": "markdown",
      "source": [
        "variable length arguments"
      ],
      "metadata": {
        "id": "4c81sTgAG5Mr"
      }
    },
    {
      "cell_type": "code",
      "source": [
        "def printinfo( arg1, *vartuple ):\n",
        "  \"This prints a variable passed arguments\"\n",
        "  print (\"Output is:\")\n",
        "  print (arg1)\n",
        "  for var in vartuple:\n",
        "     print (var)\n",
        "  return;\n",
        "printinfo( 10 )\n",
        "printinfo( 70, 60, 50 )      "
      ],
      "metadata": {
        "colab": {
          "base_uri": "https://localhost:8080/"
        },
        "id": "X2TaalKWHKaR",
        "outputId": "935ed019-1a5b-44ca-ec76-cf287be58232"
      },
      "execution_count": null,
      "outputs": [
        {
          "output_type": "stream",
          "name": "stdout",
          "text": [
            "Output is:\n",
            "10\n",
            "Output is:\n",
            "70\n",
            "60\n",
            "50\n"
          ]
        }
      ]
    },
    {
      "cell_type": "markdown",
      "source": [
        "   Global vs Local variables"
      ],
      "metadata": {
        "id": "JnBNSpFDJQWh"
      }
    },
    {
      "cell_type": "code",
      "source": [
        "total = 0;\n",
        "def sum( arg1, arg2 ):\n",
        "  total = arg1 + arg2;\n",
        "  print(\"Inside the function local total : \", total)\n",
        "  return total;\n",
        "sum(10,20);\n",
        "print(\"Outside the function global total :\", total)  "
      ],
      "metadata": {
        "colab": {
          "base_uri": "https://localhost:8080/"
        },
        "id": "N6MgSP2CJfpp",
        "outputId": "1b8bf599-602b-4341-d1b5-d8ec2dfcb7da"
      },
      "execution_count": null,
      "outputs": [
        {
          "output_type": "stream",
          "name": "stdout",
          "text": [
            "Inside the function local total :  30\n",
            "Outside the function global total : 0\n"
          ]
        }
      ]
    },
    {
      "cell_type": "markdown",
      "source": [
        "Prime number program using Maths functions"
      ],
      "metadata": {
        "id": "rUTkwyPpKTTs"
      }
    },
    {
      "cell_type": "code",
      "source": [
        "from math import sqrt\n",
        "max_value = eval(input(\"Display prime up to what value? \"))\n",
        "value = 2\n",
        "while value <=max_value:\n",
        "    is_prime = True\n",
        "    trial_factor = 2\n",
        "    root = sqrt(value)\n",
        "    while trial_factor <= root:\n",
        "       if value % trial_factor == 0:\n",
        "           is_prime = False;\n",
        "           break\n",
        "       trial_factor += 1\n",
        "    if is_prime:\n",
        "       print(value, end= ' ')\n",
        "    value += 1\n",
        "print ()          "
      ],
      "metadata": {
        "colab": {
          "base_uri": "https://localhost:8080/"
        },
        "id": "dQuedqQJKa5e",
        "outputId": "1ea982ed-f2bd-4b13-acbf-6131d1d1560c"
      },
      "execution_count": null,
      "outputs": [
        {
          "output_type": "stream",
          "name": "stdout",
          "text": [
            "Display prime up to what value? 20\n",
            "2 3 5 7 11 13 17 19 \n"
          ]
        }
      ]
    },
    {
      "cell_type": "markdown",
      "source": [
        "Time function : clock example 1"
      ],
      "metadata": {
        "id": "iQ_WmGo0MsXz"
      }
    },
    {
      "cell_type": "code",
      "source": [
        "from time import clock\n",
        "print(\"Enter your name: \", end=\" \")\n",
        "start_time = clock()\n",
        "name = input()\n",
        "elapsed = clock()-start_time\n",
        "print(name, \"it took you\", elapsed, \"seconds to respond\")\n"
      ],
      "metadata": {
        "colab": {
          "base_uri": "https://localhost:8080/"
        },
        "id": "cXLRndiWMsDk",
        "outputId": "333ca556-89ca-40b4-e363-1ea4171804c7"
      },
      "execution_count": 19,
      "outputs": [
        {
          "output_type": "stream",
          "name": "stderr",
          "text": [
            "/usr/local/lib/python3.7/dist-packages/ipykernel_launcher.py:3: DeprecationWarning: time.clock has been deprecated in Python 3.3 and will be removed from Python 3.8: use time.perf_counter or time.process_time instead\n",
            "  This is separate from the ipykernel package so we can avoid doing imports until\n"
          ]
        },
        {
          "output_type": "stream",
          "name": "stdout",
          "text": [
            "Enter your name:  rick\n",
            "rick it took you 0.03246299999999991 seconds to respond\n"
          ]
        },
        {
          "output_type": "stream",
          "name": "stderr",
          "text": [
            "/usr/local/lib/python3.7/dist-packages/ipykernel_launcher.py:5: DeprecationWarning: time.clock has been deprecated in Python 3.3 and will be removed from Python 3.8: use time.perf_counter or time.process_time instead\n",
            "  \"\"\"\n"
          ]
        }
      ]
    },
    {
      "cell_type": "markdown",
      "source": [
        "Time function : clock example 2"
      ],
      "metadata": {
        "id": "8quWMT_aNtI4"
      }
    },
    {
      "cell_type": "code",
      "source": [
        "from time import clock \n",
        "max_value = 10000\n",
        "count = 0 \n",
        "start_time = clock()\n",
        "for value in range(2, max_value + 1):\n",
        "    is_prime = True\n",
        "    for trial_factor in range(2, value):\n",
        "         if value % trial_factor == 0:\n",
        "              is_prime = False\n",
        "              break\n",
        "    if is_prime:\n",
        "        count += 1\n",
        "print()\n",
        "elapsed = clock() -start_time \n",
        "print(\"Count:\",count, \"Elapsed time:\",elapsed, \"sec\")                "
      ],
      "metadata": {
        "colab": {
          "base_uri": "https://localhost:8080/"
        },
        "id": "4OIA7wfJNybe",
        "outputId": "186ac021-f52e-4b38-f82e-80b56e2839f2"
      },
      "execution_count": null,
      "outputs": [
        {
          "output_type": "stream",
          "name": "stderr",
          "text": [
            "/usr/local/lib/python3.7/dist-packages/ipykernel_launcher.py:4: DeprecationWarning: time.clock has been deprecated in Python 3.3 and will be removed from Python 3.8: use time.perf_counter or time.process_time instead\n",
            "  after removing the cwd from sys.path.\n"
          ]
        },
        {
          "output_type": "stream",
          "name": "stdout",
          "text": [
            "\n",
            "Count: 1229 Elapsed time: 0.7158249999999988 sec\n"
          ]
        },
        {
          "output_type": "stream",
          "name": "stderr",
          "text": [
            "/usr/local/lib/python3.7/dist-packages/ipykernel_launcher.py:14: DeprecationWarning: time.clock has been deprecated in Python 3.3 and will be removed from Python 3.8: use time.perf_counter or time.process_time instead\n",
            "  \n"
          ]
        }
      ]
    },
    {
      "cell_type": "markdown",
      "source": [
        "Time function: sleep example"
      ],
      "metadata": {
        "id": "F4e1VhntPu4M"
      }
    },
    {
      "cell_type": "code",
      "source": [
        "from time import sleep\n",
        "for count in range(10, -1, -1):\n",
        "    print(count)\n",
        "    sleep(1)"
      ],
      "metadata": {
        "colab": {
          "base_uri": "https://localhost:8080/"
        },
        "id": "gowN0E_gP0bm",
        "outputId": "cbd0369a-5f4a-4cd5-a4d3-28b70eef2b76"
      },
      "execution_count": null,
      "outputs": [
        {
          "output_type": "stream",
          "name": "stdout",
          "text": [
            "10\n",
            "9\n",
            "8\n",
            "7\n",
            "6\n",
            "5\n",
            "4\n",
            "3\n",
            "2\n",
            "1\n",
            "0\n"
          ]
        }
      ]
    },
    {
      "cell_type": "markdown",
      "source": [
        "Random module function example"
      ],
      "metadata": {
        "id": "7PKvDDPTQViz"
      }
    },
    {
      "cell_type": "code",
      "source": [
        "from random import randrange, seed\n",
        "seed(23)\n",
        "for i in range(0, 100):\n",
        "    print(randrange(1, 1000), end=' ')\n",
        "print ()    "
      ],
      "metadata": {
        "colab": {
          "base_uri": "https://localhost:8080/"
        },
        "id": "uUMgQHxBQcH0",
        "outputId": "03feca77-b7c5-4779-9773-ddd7c088773e"
      },
      "execution_count": null,
      "outputs": [
        {
          "output_type": "stream",
          "name": "stdout",
          "text": [
            "948 799 972 297 914 850 86 18 607 315 434 389 543 367 134 744 197 274 456 15 227 636 466 924 26 109 88 728 511 432 21 525 643 752 442 368 790 59 211 802 37 604 378 674 177 636 222 995 753 372 580 779 881 378 992 586 289 677 999 322 587 88 834 486 182 736 495 605 811 459 692 658 168 187 819 183 547 332 690 836 533 201 597 118 85 101 437 40 582 283 963 587 288 841 605 339 112 379 922 296 \n"
          ]
        }
      ]
    },
    {
      "cell_type": "markdown",
      "source": [
        "Rolling of a die program using Ranadom Module functions"
      ],
      "metadata": {
        "id": "E-9ytXbdRQrC"
      }
    },
    {
      "cell_type": "code",
      "source": [
        "from random import randrange\n",
        "for i in range(0, 5):\n",
        "  value = randrange(1, 8)\n",
        "  print(\"+---------+\")\n",
        "  if value == 1:\n",
        "      print(\"|        |\")\n",
        "      print(\"|    *   |\")\n",
        "      print(\"|        |\")\n",
        "  elif value == 2:\n",
        "     print(\"| *       |\")\n",
        "     print(\"|         |\")\n",
        "     print(\"|       * |\")\n",
        "  elif value == 3:   \n",
        "     print(\"|        *|\")\n",
        "     print(\"|    *    |\")\n",
        "     print(\"| *       |\")\n",
        "  elif value == 4:\n",
        "     print(\"| *     * |\")\n",
        "     print(\"|         |\") \n",
        "     print(\"| *     * |\")\n",
        "  elif value == 5:\n",
        "     print(\"| *     * |\")\n",
        "     print(\"|    *    |\")\n",
        "     print(\"| *     * |\")       \n",
        "  "
      ],
      "metadata": {
        "id": "CvkYw4VkRfOr",
        "colab": {
          "base_uri": "https://localhost:8080/"
        },
        "outputId": "12dcdb04-7033-4178-e687-6d3ebcf9e89d"
      },
      "execution_count": null,
      "outputs": [
        {
          "output_type": "stream",
          "name": "stdout",
          "text": [
            "+---------+\n",
            "| *     * |\n",
            "|    *    |\n",
            "| *     * |\n",
            "+---------+\n",
            "+---------+\n",
            "| *     * |\n",
            "|    *    |\n",
            "| *     * |\n",
            "+---------+\n",
            "| *     * |\n",
            "|    *    |\n",
            "| *     * |\n",
            "+---------+\n"
          ]
        }
      ]
    },
    {
      "cell_type": "markdown",
      "source": [
        "Main function"
      ],
      "metadata": {
        "id": "aS1TgQb9zOZU"
      }
    },
    {
      "cell_type": "code",
      "source": [
        "def gcd(m, n):\n",
        "  min = m if m < n else n \n",
        "  largestFactor = 1\n",
        "  for i in range(1, min + 1):\n",
        "      if m % i == 0 and n % 1 == 0:\n",
        "          largestFactor = i\n",
        "  return largestFactor\n",
        "def get_int ():\n",
        "    return int(input(\"please enter an integer:\"))\n",
        "def main () :\n",
        "    n1 = get_int ()\n",
        "    n2 = get_int ()\n",
        "    print(\"gcd(\", n1, \",\", n2, \") = \", gcd (n1, n2), sep=\" \")\n",
        "main ()         \n"
      ],
      "metadata": {
        "colab": {
          "base_uri": "https://localhost:8080/"
        },
        "id": "mpHYcETBzVBH",
        "outputId": "5711a23d-5c7d-4b12-a708-99105adb4adf"
      },
      "execution_count": 17,
      "outputs": [
        {
          "output_type": "stream",
          "name": "stdout",
          "text": [
            "please enter an integer:10\n",
            "please enter an integer:20\n",
            "gcd( 10 , 20 ) =  10\n"
          ]
        }
      ]
    },
    {
      "cell_type": "markdown",
      "source": [
        "paramter passing example"
      ],
      "metadata": {
        "id": "Smi7BG3b1S-F"
      }
    },
    {
      "cell_type": "code",
      "source": [
        "def increment(x):\n",
        "  print(\"Beginning execution of increment, x =\", x)\n",
        "  x += 1\n",
        "  print(\"Ending execution of increment,x=\",x)\n",
        "def main ():\n",
        "  x = 5\n",
        "  print(\"Before increment, x=\",x)\n",
        "  increment(x)\n",
        "  print(\"After increment, x=\", x)\n",
        "main ()    "
      ],
      "metadata": {
        "colab": {
          "base_uri": "https://localhost:8080/"
        },
        "id": "em7ya4NF1X_k",
        "outputId": "6f071c76-e319-49b5-9fc5-017f5cad43c4"
      },
      "execution_count": null,
      "outputs": [
        {
          "output_type": "stream",
          "name": "stdout",
          "text": [
            "Before increment, x= 5\n",
            "Beginning execution of increment, x = 5\n",
            "Ending execution of increment,x= 6\n",
            "After increment, x= 5\n"
          ]
        }
      ]
    },
    {
      "cell_type": "markdown",
      "source": [
        "Recursion"
      ],
      "metadata": {
        "id": "h9Kcui-k2Qm2"
      }
    },
    {
      "cell_type": "code",
      "source": [
        "def factorial (n):\n",
        "  if n == 0:\n",
        "      return 1\n",
        "  else:\n",
        "      return n * factorial (n - 1)\n",
        "def main():\n",
        "    print(\"0! = \",  factorial(0))\n",
        "    print(\"1! = \",  factorial(1))\n",
        "    print(\"2! = \",  factorial(10))\n",
        "main ()    \n"
      ],
      "metadata": {
        "colab": {
          "base_uri": "https://localhost:8080/"
        },
        "id": "EIMWqbi43R_x",
        "outputId": "f39ccf82-ec8e-4dab-de62-b51532e76166"
      },
      "execution_count": null,
      "outputs": [
        {
          "output_type": "stream",
          "name": "stdout",
          "text": [
            "0! =  1\n",
            "1! =  1\n",
            "2! =  3628800\n"
          ]
        }
      ]
    },
    {
      "cell_type": "markdown",
      "source": [
        "Documenting Functions and Modules"
      ],
      "metadata": {
        "id": "oU4E31mF4Lwj"
      }
    },
    {
      "cell_type": "code",
      "source": [
        "x = '''\n",
        "This is a multi-line\n",
        "    string that goes on\n",
        "for three lines!\n",
        "'''\n",
        "print(x)    "
      ],
      "metadata": {
        "colab": {
          "base_uri": "https://localhost:8080/"
        },
        "id": "g9UyU2AT51cg",
        "outputId": "a52fcbb1-f4a1-458a-9a24-8f73b4baa96a"
      },
      "execution_count": null,
      "outputs": [
        {
          "output_type": "stream",
          "name": "stdout",
          "text": [
            "\n",
            "This is a multi-line\n",
            "    string that goes on\n",
            "for three lines!\n",
            "\n"
          ]
        }
      ]
    },
    {
      "cell_type": "markdown",
      "source": [
        "Built in function"
      ],
      "metadata": {
        "id": "vV_P7nJu6JOQ"
      }
    },
    {
      "cell_type": "code",
      "source": [
        "def add(x, y):\n",
        "    '''\n",
        "    Adds the parameters x and y and returns the result\n",
        "    '''\n",
        "    return x + y\n",
        "def multiply(x, y):\n",
        "    '''\n",
        "    Multiplies the parameters x and y and returns the result\n",
        "    '''\n",
        "    return x * y\n",
        "def evaluate(f, x, y):\n",
        "    '''\n",
        "    calls the function f with parameters x and y:\n",
        "    f(x, y)\n",
        "    '''\n",
        "    return f(x, y)\n",
        "def main():\n",
        "    '''\n",
        "    Tests the add, multiply, and evaluate functions\n",
        "    '''\n",
        "    print (add(2, 3));\n",
        "    print (multiply(2, 3));\n",
        "    print (evaluate(add, 2, 3));\n",
        "    print (evaluate(multiply, 2 , 3));\n",
        "main ()  \n",
        "\n"
      ],
      "metadata": {
        "colab": {
          "base_uri": "https://localhost:8080/"
        },
        "id": "eL2aR-Fc7Dq_",
        "outputId": "2a59895f-1199-4883-ef93-fdc9f1b56384"
      },
      "execution_count": 16,
      "outputs": [
        {
          "output_type": "stream",
          "name": "stdout",
          "text": [
            "5\n",
            "6\n",
            "5\n",
            "6\n"
          ]
        }
      ]
    },
    {
      "cell_type": "markdown",
      "source": [
        "Time function for example 3"
      ],
      "metadata": {
        "id": "FTjD3-d3Yx69"
      }
    },
    {
      "cell_type": "code",
      "source": [
        "import time\n",
        "start = time.time()\n",
        "print(\"Time elapsed on working...\")\n",
        "time.sleep(0.9)\n",
        "end = time.time()\n",
        "print(\"Time consumed in working: \",end - start)"
      ],
      "metadata": {
        "id": "7mORBSVZYyVd",
        "outputId": "3d3f257a-ead5-4792-c2a3-c5cb0087539a",
        "colab": {
          "base_uri": "https://localhost:8080/"
        }
      },
      "execution_count": 18,
      "outputs": [
        {
          "output_type": "stream",
          "name": "stdout",
          "text": [
            "Time elapsed on working...\n",
            "Time consumed in working:  0.9031333923339844\n"
          ]
        }
      ]
    }
  ]
}