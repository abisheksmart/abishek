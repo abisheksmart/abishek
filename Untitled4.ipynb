{
  "nbformat": 4,
  "nbformat_minor": 0,
  "metadata": {
    "colab": {
      "name": "Untitled4.ipynb",
      "provenance": [],
      "collapsed_sections": [],
      "authorship_tag": "ABX9TyNqf2Dgui4vYALLQs116hK/",
      "include_colab_link": true
    },
    "kernelspec": {
      "name": "python3",
      "display_name": "Python 3"
    },
    "language_info": {
      "name": "python"
    }
  },
  "cells": [
    {
      "cell_type": "markdown",
      "metadata": {
        "id": "view-in-github",
        "colab_type": "text"
      },
      "source": [
        "<a href=\"https://colab.research.google.com/github/abisheksmart/abishek/blob/main/Untitled4.ipynb\" target=\"_parent\"><img src=\"https://colab.research.google.com/assets/colab-badge.svg\" alt=\"Open In Colab\"/></a>"
      ]
    },
    {
      "cell_type": "code",
      "execution_count": null,
      "metadata": {
        "colab": {
          "base_uri": "https://localhost:8080/"
        },
        "id": "2gyoepoD-Dd7",
        "outputId": "5c4a7f6e-50c3-46fe-dbc6-a7731b0bbb88"
      },
      "outputs": [
        {
          "output_type": "stream",
          "name": "stdout",
          "text": [
            "enter first number10\n",
            "enter second number20\n",
            "10 + 20 = (10, 20)\n"
          ]
        }
      ],
      "source": [
        "0 value1=eval(input('enter first number'))\n",
        "value2=eval(input('enter second number'))\n",
        "sum=value1,value2\n",
        "print( value1,'+',value2, '=',sum)"
      ]
    },
    {
      "cell_type": "code",
      "source": [
        "x=20\n",
        "y=30\n",
        "x+y\n"
      ],
      "metadata": {
        "colab": {
          "base_uri": "https://localhost:8080/"
        },
        "id": "yo4rOpJS-qO7",
        "outputId": "6a247563-8318-4cde-fc66-7c05fb17fd3f"
      },
      "execution_count": null,
      "outputs": [
        {
          "output_type": "execute_result",
          "data": {
            "text/plain": [
              "50"
            ]
          },
          "metadata": {},
          "execution_count": 5
        }
      ]
    },
    {
      "cell_type": "code",
      "source": [
        "x=\"10\"\n",
        "y=\"20\"\n",
        "x+y"
      ],
      "metadata": {
        "colab": {
          "base_uri": "https://localhost:8080/",
          "height": 35
        },
        "id": "o4sOykDw_KUK",
        "outputId": "8216fe71-ae08-4f53-edb7-c1af9bf2b03c"
      },
      "execution_count": null,
      "outputs": [
        {
          "output_type": "execute_result",
          "data": {
            "text/plain": [
              "'1020'"
            ],
            "application/vnd.google.colaboratory.intrinsic+json": {
              "type": "string"
            }
          },
          "metadata": {},
          "execution_count": 6
        }
      ]
    },
    {
      "cell_type": "code",
      "source": [
        "x=10\n",
        "y=10\n",
        "x-y"
      ],
      "metadata": {
        "colab": {
          "base_uri": "https://localhost:8080/"
        },
        "id": "2L2iYF-K_YvS",
        "outputId": "a3cad298-677f-4e9b-a3c0-efde248c5044"
      },
      "execution_count": null,
      "outputs": [
        {
          "output_type": "execute_result",
          "data": {
            "text/plain": [
              "0"
            ]
          },
          "metadata": {},
          "execution_count": 9
        }
      ]
    },
    {
      "cell_type": "code",
      "source": [
        "x=10\n",
        "y=10\n",
        "x*y"
      ],
      "metadata": {
        "colab": {
          "base_uri": "https://localhost:8080/"
        },
        "id": "E6mnmv2V_YxL",
        "outputId": "e1a633f6-20a0-4a70-81e6-fcaeff9be532"
      },
      "execution_count": null,
      "outputs": [
        {
          "output_type": "execute_result",
          "data": {
            "text/plain": [
              "100"
            ]
          },
          "metadata": {},
          "execution_count": 10
        }
      ]
    },
    {
      "cell_type": "code",
      "source": [
        "x=\"10\"\n",
        "y=10\n",
        "x*y\n"
      ],
      "metadata": {
        "colab": {
          "base_uri": "https://localhost:8080/",
          "height": 35
        },
        "id": "EHuCjiZaAPdD",
        "outputId": "5a3471ef-f960-435c-dfa4-24a2d7ccf7ab"
      },
      "execution_count": null,
      "outputs": [
        {
          "output_type": "execute_result",
          "data": {
            "text/plain": [
              "'10101010101010101010'"
            ],
            "application/vnd.google.colaboratory.intrinsic+json": {
              "type": "string"
            }
          },
          "metadata": {},
          "execution_count": 11
        }
      ]
    },
    {
      "cell_type": "code",
      "source": [
        "x=10\n",
        "y=\"10\"\n",
        "x*y"
      ],
      "metadata": {
        "colab": {
          "base_uri": "https://localhost:8080/",
          "height": 35
        },
        "id": "7hKVhspDAZxS",
        "outputId": "c4d7bb55-6e79-4501-affb-c9b42cdb243e"
      },
      "execution_count": null,
      "outputs": [
        {
          "output_type": "execute_result",
          "data": {
            "text/plain": [
              "'10101010101010101010'"
            ],
            "application/vnd.google.colaboratory.intrinsic+json": {
              "type": "string"
            }
          },
          "metadata": {},
          "execution_count": 12
        }
      ]
    },
    {
      "cell_type": "code",
      "source": [
        "x=10\n",
        "y=10\n",
        "x//y\n"
      ],
      "metadata": {
        "colab": {
          "base_uri": "https://localhost:8080/"
        },
        "id": "5ROZrUHGAg-q",
        "outputId": "c05169d4-b2db-45a8-ab7c-53314a604cf4"
      },
      "execution_count": null,
      "outputs": [
        {
          "output_type": "execute_result",
          "data": {
            "text/plain": [
              "1"
            ]
          },
          "metadata": {},
          "execution_count": 13
        }
      ]
    },
    {
      "cell_type": "code",
      "source": [
        "x=10\n",
        "y=10\n",
        "x/y"
      ],
      "metadata": {
        "colab": {
          "base_uri": "https://localhost:8080/"
        },
        "id": "GxzG5XEQAzjh",
        "outputId": "90be9e39-bc43-4774-aded-f1fde493f7d9"
      },
      "execution_count": null,
      "outputs": [
        {
          "output_type": "execute_result",
          "data": {
            "text/plain": [
              "1.0"
            ]
          },
          "metadata": {},
          "execution_count": 14
        }
      ]
    },
    {
      "cell_type": "code",
      "source": [
        "x=10\n",
        "y=10\n",
        "x%y"
      ],
      "metadata": {
        "colab": {
          "base_uri": "https://localhost:8080/"
        },
        "id": "Zo-_t_ffA6zq",
        "outputId": "1c13f9e4-2894-4511-91f7-abc97b47217b"
      },
      "execution_count": null,
      "outputs": [
        {
          "output_type": "execute_result",
          "data": {
            "text/plain": [
              "0"
            ]
          },
          "metadata": {},
          "execution_count": 15
        }
      ]
    },
    {
      "cell_type": "code",
      "source": [
        "x=10\n",
        "y=10\n",
        "x**y"
      ],
      "metadata": {
        "colab": {
          "base_uri": "https://localhost:8080/"
        },
        "id": "T0LDwty3A_wy",
        "outputId": "f0b1a0c5-45db-4394-eccd-75c959913f9b"
      },
      "execution_count": null,
      "outputs": [
        {
          "output_type": "execute_result",
          "data": {
            "text/plain": [
              "10000000000"
            ]
          },
          "metadata": {},
          "execution_count": 16
        }
      ]
    },
    {
      "cell_type": "code",
      "source": [
        "x=20\n",
        "y=10\n",
        "print('x+y=', x+y)\n",
        "print('x-y=', x-y)\n",
        "print('x*y=', x*y)\n",
        "print('x/y=', x/y)\n",
        "print('x//y=',x//y)\n",
        "print('x**y=',x**y)\n"
      ],
      "metadata": {
        "colab": {
          "base_uri": "https://localhost:8080/"
        },
        "id": "unu3SQ__BNrp",
        "outputId": "0c206ee5-ee6f-483a-b0d7-a54c618918aa"
      },
      "execution_count": null,
      "outputs": [
        {
          "output_type": "stream",
          "name": "stdout",
          "text": [
            "x+y= 30\n",
            "x-y= 10\n",
            "x*y= 200\n",
            "x/y= 2.0\n",
            "x//y= 2\n",
            "x**y= 10240000000000\n"
          ]
        }
      ]
    },
    {
      "cell_type": "code",
      "source": [
        "print(\"choice 1:Add, 2:Sub, 3:Div, 4:Mul, 5:Quit :\")\n",
        "n1 = input(\"Enter the choice of operation:\")\n",
        "n =int(n1)\n",
        "if (n == 1):\n",
        "    print(\"you have choosen addition option :\")\n",
        "    a1 =input(\"Enter the value for A:\")\n",
        "    b1 =input(\"Enter the value for B:\")\n",
        "    a =int(a1)\n",
        "    b =int(b1)\n",
        "    c=a + b\n",
        "    print(\"The result\",a,\"+\",b,\"=\",c)\n",
        "elif (n == 2):\n",
        "   print(\"you have choosen subtraction option :\")\n",
        "   a1 =input(\"Enter the value for A:\")\n",
        "   b1 =input(\"Enter the value for B:\")\n",
        "   a =int(a1)\n",
        "   b =int(b1)\n",
        "   c =a-b\n",
        "   print(\"The result\",a,\"-\",b,\"+\",c)\n",
        "elif (n == 3):\n",
        "   print(\"you have choosen divison option :\")\n",
        "   a1 =input(\"Enter the value for A:\")\n",
        "   b1 =input(\"Enter the value for B:\")\n",
        "   a =int(a1)\n",
        "   b =int(b1)\n",
        "   c =a/b\n",
        "   print(\"The result\",a,\"/\",b,\"=\",c)\n",
        "elif (n == 4):\n",
        "    print(\"you have choosen multiplication option :\")\n",
        "    a1 =input(\"Enter the value for A:\")\n",
        "    b1 =input(\"Enter the value for B:\")\n",
        "    a =int(a1)\n",
        "    b =int(b1)\n",
        "    c =a*b\n",
        "    print(\"The result\",a,\"*\",b,\"=\",c)\n",
        "elif (n==5):          \n",
        "   print (\"you have given a wrong :\",n)\n",
        "   exit() "
      ],
      "metadata": {
        "colab": {
          "base_uri": "https://localhost:8080/"
        },
        "id": "H02TkJ3wCFDY",
        "outputId": "0068541e-9a0a-4a6e-bbcb-4f04d765cead"
      },
      "execution_count": 34,
      "outputs": [
        {
          "output_type": "stream",
          "name": "stdout",
          "text": [
            "choice 1:Add, 2:Sub, 3:Div, 4:Mul, 5:Quit :\n",
            "Enter the choice of operation:2\n",
            "you have choosen subtraction option :\n",
            "Enter the value for A:10\n",
            "Enter the value for B:20\n",
            "The result 10 - 20 + -10\n"
          ]
        }
      ]
    },
    {
      "cell_type": "code",
      "source": [
        "x=20+20.5\n",
        "print(\"+ o[perator is evaluated=\",x)\n"
      ],
      "metadata": {
        "colab": {
          "base_uri": "https://localhost:8080/"
        },
        "id": "XLrUnrtkRyOJ",
        "outputId": "f201cd8d-a008-4100-8f0e-e20ef2e3dec1"
      },
      "execution_count": 35,
      "outputs": [
        {
          "output_type": "stream",
          "name": "stdout",
          "text": [
            "+ o[perator is evaluated= 40.5\n"
          ]
        }
      ]
    },
    {
      "cell_type": "code",
      "source": [
        "x=200+20.0*5\n",
        "print(\"* operator is evaluated\",x)"
      ],
      "metadata": {
        "colab": {
          "base_uri": "https://localhost:8080/"
        },
        "id": "6fnqidKtSDNO",
        "outputId": "4715323e-d0c0-4c78-fd2e-4c844caf1708"
      },
      "execution_count": 36,
      "outputs": [
        {
          "output_type": "stream",
          "name": "stdout",
          "text": [
            "* operator is evaluated 300.0\n"
          ]
        }
      ]
    },
    {
      "cell_type": "code",
      "source": [
        "x=30+20/2*5\n",
        "print(\"/ operator is evaluated\", x)\n"
      ],
      "metadata": {
        "colab": {
          "base_uri": "https://localhost:8080/"
        },
        "id": "tDdZg1AhSRC9",
        "outputId": "a09b652f-d94f-4593-d419-1c8d0191f156"
      },
      "execution_count": 38,
      "outputs": [
        {
          "output_type": "stream",
          "name": "stdout",
          "text": [
            "/ operator is evaluated 80.0\n"
          ]
        }
      ]
    },
    {
      "cell_type": "code",
      "source": [
        "x =100 * 5 +(10 % 2)** 1\n",
        "print(x)"
      ],
      "metadata": {
        "colab": {
          "base_uri": "https://localhost:8080/"
        },
        "id": "RdaIiHEUSewd",
        "outputId": "8773ab76-adb8-4b97-fbf2-9d3c21311280"
      },
      "execution_count": 39,
      "outputs": [
        {
          "output_type": "stream",
          "name": "stdout",
          "text": [
            "500\n"
          ]
        }
      ]
    },
    {
      "cell_type": "code",
      "source": [
        "x=10\n",
        "x+=1\n",
        "print(x)"
      ],
      "metadata": {
        "colab": {
          "base_uri": "https://localhost:8080/"
        },
        "id": "Bu_ufRkcSo88",
        "outputId": "d12d098f-4bc1-4ff3-e236-95638da180bf"
      },
      "execution_count": 40,
      "outputs": [
        {
          "output_type": "stream",
          "name": "stdout",
          "text": [
            "11\n"
          ]
        }
      ]
    },
    {
      "cell_type": "code",
      "source": [
        "x=10\n",
        "x-=1\n",
        "print(x)"
      ],
      "metadata": {
        "colab": {
          "base_uri": "https://localhost:8080/"
        },
        "id": "ugb-8m9eSxBs",
        "outputId": "25052549-e49d-4993-8d52-cbb930f91ea6"
      },
      "execution_count": 41,
      "outputs": [
        {
          "output_type": "stream",
          "name": "stdout",
          "text": [
            "9\n"
          ]
        }
      ]
    },
    {
      "cell_type": "code",
      "source": [
        "x=5\n",
        "x*=5\n",
        "print(x)"
      ],
      "metadata": {
        "colab": {
          "base_uri": "https://localhost:8080/"
        },
        "id": "Ppr4VDZ2S2DM",
        "outputId": "44ffb03a-6f94-45a7-c26f-37e7b0b589a1"
      },
      "execution_count": 42,
      "outputs": [
        {
          "output_type": "stream",
          "name": "stdout",
          "text": [
            "25\n"
          ]
        }
      ]
    },
    {
      "cell_type": "code",
      "source": [
        " print(\"Fibonacci Series\")\n",
        " n1=input(\"Enter the number :\")\n",
        " n=int(n1)\n",
        " if (n>0):\n",
        "    f = 0\n",
        "    s = 1\n",
        "    i = 0\n",
        "    next = 0\n",
        "    while (1):\n",
        "        print(\"\\n\\n****************************************\")\n",
        "        for i in range (n+1):\n",
        "            if(i <= 1):\n",
        "               print(i)\n",
        "            else:\n",
        "                next = f + s\n",
        "                f = s\n",
        "                s = next\n",
        "                print (next)\n",
        "        i = i + 1\n",
        "        break    \n",
        " else:\n",
        "      print(\" you have entered wrong input\",n)       \n",
        "\n"
      ],
      "metadata": {
        "colab": {
          "base_uri": "https://localhost:8080/"
        },
        "id": "SKCi4L0JTFtM",
        "outputId": "5d3b16ae-cdc0-42e4-ee75-8970feb529a1"
      },
      "execution_count": 66,
      "outputs": [
        {
          "output_type": "stream",
          "name": "stdout",
          "text": [
            "Fibonacci Series\n",
            "Enter the number :5\n",
            "\n",
            "\n",
            "****************************************\n",
            "0\n",
            "1\n",
            "1\n",
            "2\n",
            "3\n",
            "5\n"
          ]
        }
      ]
    }
  ]
}