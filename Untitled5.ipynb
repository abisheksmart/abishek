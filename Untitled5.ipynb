{
  "nbformat": 4,
  "nbformat_minor": 0,
  "metadata": {
    "colab": {
      "name": "Untitled5.ipynb",
      "provenance": [],
      "collapsed_sections": [],
      "authorship_tag": "ABX9TyPAYyvGGsSD9rqYYX1BttmF",
      "include_colab_link": true
    },
    "kernelspec": {
      "name": "python3",
      "display_name": "Python 3"
    },
    "language_info": {
      "name": "python"
    }
  },
  "cells": [
    {
      "cell_type": "markdown",
      "metadata": {
        "id": "view-in-github",
        "colab_type": "text"
      },
      "source": [
        "<a href=\"https://colab.research.google.com/github/abisheksmart/abishek/blob/main/Untitled5.ipynb\" target=\"_parent\"><img src=\"https://colab.research.google.com/assets/colab-badge.svg\" alt=\"Open In Colab\"/></a>"
      ]
    },
    {
      "cell_type": "code",
      "execution_count": null,
      "metadata": {
        "colab": {
          "base_uri": "https://localhost:8080/"
        },
        "id": "J8h-LhmOVcBh",
        "outputId": "8ccd8069-ef28-43a9-ed96-f6803fd0c9eb"
      },
      "outputs": [
        {
          "output_type": "stream",
          "name": "stdout",
          "text": [
            "1:1\n",
            "2:12\n",
            "3:1"
          ]
        }
      ],
      "source": [
        "MAX =20\n",
        "n = 1\n",
        "while n <= MAX:\n",
        "    factor =  1\n",
        "    print (end=str(n) + ':')\n",
        "    while factor <= n:\n",
        "        if n % factor == 0:\n",
        "            print (factor, end= '')\n",
        "            factor += 1\n",
        "    print()  \n",
        "    n += 1  "
      ]
    },
    {
      "cell_type": "code",
      "source": [
        "sum = 0\n",
        "done = False;\n",
        "while not done:\n",
        "    val = eval(input(\"Enter positive integer (999 quits):\"))\n",
        "    if val < 0;\n",
        "        print(\"Negative value\", val, \"ignored\")\n",
        "        continue;\n",
        "     if val !=999:\n",
        "         print (\"Tallying\",val)\n",
        "         sum += val\n",
        "    else:\n",
        "        done = (val == 999);\n",
        "pirnt(\"sum =\",sum)              \n"
      ],
      "metadata": {
        "id": "4kF8QEiFXSVq"
      },
      "execution_count": null,
      "outputs": []
    },
    {
      "cell_type": "code",
      "source": [
        ""
      ],
      "metadata": {
        "id": "1Cy_lJHaYgll"
      },
      "execution_count": null,
      "outputs": []
    }
  ]
}