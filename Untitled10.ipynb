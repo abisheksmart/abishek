{
  "nbformat": 4,
  "nbformat_minor": 0,
  "metadata": {
    "colab": {
      "name": "Untitled10.ipynb",
      "provenance": [],
      "authorship_tag": "ABX9TyNZFBn8h0nTbH9oe0WQad8I",
      "include_colab_link": true
    },
    "kernelspec": {
      "name": "python3",
      "display_name": "Python 3"
    },
    "language_info": {
      "name": "python"
    }
  },
  "cells": [
    {
      "cell_type": "markdown",
      "metadata": {
        "id": "view-in-github",
        "colab_type": "text"
      },
      "source": [
        "<a href=\"https://colab.research.google.com/github/abisheksmart/abishek/blob/main/Untitled10.ipynb\" target=\"_parent\"><img src=\"https://colab.research.google.com/assets/colab-badge.svg\" alt=\"Open In Colab\"/></a>"
      ]
    },
    {
      "cell_type": "markdown",
      "source": [
        "ADD TWO NUMBERS"
      ],
      "metadata": {
        "id": "sjZC1s6fMnXR"
      }
    },
    {
      "cell_type": "code",
      "source": [
        "num1=1.5\n",
        "num2=6.3\n",
        "sum=num1 +num2\n",
        "print('The sum of {0} and {1} is {2}'.format(num1,num2,sum))"
      ],
      "metadata": {
        "colab": {
          "base_uri": "https://localhost:8080/"
        },
        "id": "s75GPC0VMsm5",
        "outputId": "dffd6c9a-bbe7-4ab5-a95c-d19e20772f9b"
      },
      "execution_count": null,
      "outputs": [
        {
          "output_type": "stream",
          "name": "stdout",
          "text": [
            "The sum of 1.5 and 6.3 is 7.8\n"
          ]
        }
      ]
    },
    {
      "cell_type": "markdown",
      "source": [
        "Add Two Numbers with user input"
      ],
      "metadata": {
        "id": "fkZp3EXLNU43"
      }
    },
    {
      "cell_type": "code",
      "source": [
        "num1=input('Enter first number:')\n",
        "num2=input('Enter second number:')\n",
        "sum=float(num1)+float(num2)\n",
        "print('The sum of {0}and{1}is{2}'.format(num1,num2,sum))"
      ],
      "metadata": {
        "colab": {
          "base_uri": "https://localhost:8080/"
        },
        "id": "A6KcaQ0WNbAq",
        "outputId": "9354c3c3-7920-4f5e-9963-2845a3432eda"
      },
      "execution_count": null,
      "outputs": [
        {
          "output_type": "stream",
          "name": "stdout",
          "text": [
            "Enter first number:1.5\n",
            "Enter second number:2.5\n",
            "The sum of 1.5and2.5is4.0\n"
          ]
        }
      ]
    },
    {
      "cell_type": "markdown",
      "source": [
        "For Positive  numbers"
      ],
      "metadata": {
        "id": "-tCaYaVAOQZH"
      }
    },
    {
      "cell_type": "code",
      "execution_count": null,
      "metadata": {
        "colab": {
          "base_uri": "https://localhost:8080/"
        },
        "id": "gC-9zqkeMQ19",
        "outputId": "303add8e-3a64-40e1-cd07-9c6e7bc040ae"
      },
      "outputs": [
        {
          "output_type": "stream",
          "name": "stdout",
          "text": [
            "Enter a number:15\n",
            "Thesquarerootof15.000is3.873\n"
          ]
        }
      ],
      "source": [
        "num = 8\n",
        "num=float(input('Enter a number:'))\n",
        "num_sqrt=num **0.5\n",
        "print('Thesquarerootof%0.3fis%0.3f'%(num,num_sqrt))"
      ]
    },
    {
      "cell_type": "markdown",
      "source": [
        "Real or complex numbers"
      ],
      "metadata": {
        "id": "EIieQzlCQXXD"
      }
    },
    {
      "cell_type": "code",
      "source": [
        "import cmath\n",
        "num=1+2j\n",
        "num=eval(input('Enter a number:'))\n",
        "num_sqrt=cmath.sqrt(num)\n",
        "print('Thesquarerootof{0}is{1:0.3f}+{2:0.3f}j'.format(num,num_sqrt.real,num_sqrt.imag))"
      ],
      "metadata": {
        "colab": {
          "base_uri": "https://localhost:8080/"
        },
        "id": "fQzwGMIZQkB4",
        "outputId": "42faac1b-cf8c-4c9a-fe54-935348deb9d3"
      },
      "execution_count": null,
      "outputs": [
        {
          "output_type": "stream",
          "name": "stdout",
          "text": [
            "Enter a number:15\n",
            "Thesquarerootof15is3.873+0.000j\n"
          ]
        }
      ]
    },
    {
      "cell_type": "markdown",
      "source": [
        "Area of triangle"
      ],
      "metadata": {
        "id": "E0UE4FwJQciQ"
      }
    },
    {
      "cell_type": "code",
      "source": [
        "a = 5\n",
        "b = 6\n",
        "c = 7\n",
        "a = float(input('Enter first side:'))\n",
        "b = float(input('Enter second side:'))\n",
        "c = float(input('Enter third side:'))\n",
        "s=(a+b+c)/2\n",
        "area = (s*(s-a)*(s-b)*(s-c))**0.5\n",
        "print('The area of the triangle is %0.2f'%area)\n"
      ],
      "metadata": {
        "colab": {
          "base_uri": "https://localhost:8080/"
        },
        "id": "Fg_1Hx4gQV_M",
        "outputId": "c702a7b2-7b00-4235-b6ac-e39d1b36efdf"
      },
      "execution_count": null,
      "outputs": [
        {
          "output_type": "stream",
          "name": "stdout",
          "text": [
            "Enter first side:5\n",
            "Enter second side:6\n",
            "Enter third side:7\n",
            "The area of the triangle is 14.70\n"
          ]
        }
      ]
    },
    {
      "cell_type": "markdown",
      "source": [
        "using a temporary variable"
      ],
      "metadata": {
        "id": "ZePKN_ZZS2a3"
      }
    },
    {
      "cell_type": "code",
      "source": [
        "x = 5\n",
        "y = 10\n",
        "x = input('Enter value of x:')\n",
        "y = input('Enter value of y:')\n",
        "temp = x\n",
        "x = y\n",
        "y = temp\n",
        "print('The value of x after swapping:{}'.format(x))\n",
        "print('The value of y after swapping:{}'.format(y))"
      ],
      "metadata": {
        "colab": {
          "base_uri": "https://localhost:8080/"
        },
        "id": "Oqmh0UgkS-ir",
        "outputId": "19d4e40a-ec6a-48ce-fe4c-f936c53aa164"
      },
      "execution_count": null,
      "outputs": [
        {
          "output_type": "stream",
          "name": "stdout",
          "text": [
            "Enter value of x:5\n",
            "Enter value of y:10\n",
            "The value of x after swapping:10\n",
            "The value of y after swapping:5\n"
          ]
        }
      ]
    },
    {
      "cell_type": "markdown",
      "source": [
        "python variables"
      ],
      "metadata": {
        "id": "7k1wQANET1Ji"
      }
    },
    {
      "cell_type": "code",
      "source": [
        "x=y=z=\"same\"\n",
        "print(x)\n",
        "print(y)\n",
        "print(z)"
      ],
      "metadata": {
        "colab": {
          "base_uri": "https://localhost:8080/"
        },
        "id": "XFREfVjpT7kw",
        "outputId": "7081bd98-c014-4643-920d-c2f46e727745"
      },
      "execution_count": null,
      "outputs": [
        {
          "output_type": "stream",
          "name": "stdout",
          "text": [
            "same\n",
            "same\n",
            "same\n"
          ]
        }
      ]
    },
    {
      "cell_type": "markdown",
      "source": [
        "Declaring and assigning value to a constant"
      ],
      "metadata": {
        "id": "T7vs4lbEUeAz"
      }
    },
    {
      "cell_type": "code",
      "source": [
        "!pip install constant"
      ],
      "metadata": {
        "colab": {
          "base_uri": "https://localhost:8080/"
        },
        "id": "o4Cl0d5zWkB4",
        "outputId": "a2b8a77a-1e05-4ec2-cc9e-e6ccdcb8caec"
      },
      "execution_count": null,
      "outputs": [
        {
          "output_type": "stream",
          "name": "stdout",
          "text": [
            "Looking in indexes: https://pypi.org/simple, https://us-python.pkg.dev/colab-wheels/public/simple/\n",
            "Collecting constant\n",
            "  Downloading constant-0.0.4.zip (63 kB)\n",
            "\u001b[K     |████████████████████████████████| 63 kB 1.7 MB/s \n",
            "\u001b[?25hRequirement already satisfied: jinja2 in /usr/local/lib/python3.7/dist-packages (from constant) (2.11.3)\n",
            "Requirement already satisfied: MarkupSafe>=0.23 in /usr/local/lib/python3.7/dist-packages (from jinja2->constant) (2.0.1)\n",
            "Building wheels for collected packages: constant\n",
            "  Building wheel for constant (setup.py) ... \u001b[?25l\u001b[?25hdone\n",
            "  Created wheel for constant: filename=constant-0.0.4-py3-none-any.whl size=74359 sha256=35e1cc57c1588b66f49f063c4e7c49b9b524765a9236db32396c6eb704a426e9\n",
            "  Stored in directory: /root/.cache/pip/wheels/66/c7/15/b36373f806bcade834c10be9a6f559d63d9be96fa905b5cd45\n",
            "Successfully built constant\n",
            "Installing collected packages: constant\n",
            "Successfully installed constant-0.0.4\n"
          ]
        }
      ]
    },
    {
      "cell_type": "code",
      "source": [
        "PI =3.14\n",
        "GRAVITY =9.8"
      ],
      "metadata": {
        "id": "8jGYLkt4WqKC"
      },
      "execution_count": null,
      "outputs": []
    },
    {
      "cell_type": "code",
      "source": [
        "import constant\n",
        "print(constant . PI)\n",
        "print(constant . GRAVITY)"
      ],
      "metadata": {
        "id": "fwKcsuIvVkgv"
      },
      "execution_count": null,
      "outputs": []
    },
    {
      "cell_type": "markdown",
      "source": [
        "How to use Numeric literals in python"
      ],
      "metadata": {
        "id": "KMe4lrRVUb_V"
      }
    },
    {
      "cell_type": "code",
      "source": [
        "a = 0b1010 #Binary literals\n",
        "b = 100 #Decimal literals\n",
        "c =  0o320 #octal literals\n",
        "d = 0x12c #Hexadecimal Literal\n",
        "float_1 = 10.5\n",
        "float_2 = 1.5e2\n",
        "x = 3.14j\n",
        "print(a,b,c,d)\n",
        "print(float_1,float_2)\n",
        "print(x,x.imag,x.real) "
      ],
      "metadata": {
        "colab": {
          "base_uri": "https://localhost:8080/"
        },
        "id": "vAkvc0YzXuWS",
        "outputId": "b55bc758-d238-42e7-be08-c987cb2e2583"
      },
      "execution_count": null,
      "outputs": [
        {
          "output_type": "stream",
          "name": "stdout",
          "text": [
            "10 100 208 300\n",
            "10.5 150.0\n",
            "3.14j 3.14 0.0\n"
          ]
        }
      ]
    },
    {
      "cell_type": "markdown",
      "source": [
        "STring literals"
      ],
      "metadata": {
        "id": "87NHdm3-ZfMI"
      }
    },
    {
      "cell_type": "code",
      "source": [
        "strings = \"This is python\"\n",
        "char = \"c\"\n",
        "multiline_str=\"\"\"This is a multiline string with more than one line code.\"\"\"\n",
        "unicode= u\"\\u00dcnic\\u00f6de\"\n",
        "raw_str=r\"raw\\nstring\"\n",
        "print(strings)\n",
        "print(char)\n",
        "print(multiline_str)\n",
        "print(unicode)\n",
        "print(raw_str)"
      ],
      "metadata": {
        "colab": {
          "base_uri": "https://localhost:8080/"
        },
        "id": "mFwQN0fIZmmH",
        "outputId": "366508e3-42e2-42f9-80e3-e93e13a8abf4"
      },
      "execution_count": null,
      "outputs": [
        {
          "output_type": "stream",
          "name": "stdout",
          "text": [
            "This is python\n",
            "c\n",
            "This is a multiline string with more than one line code.\n",
            "Ünicöde\n",
            "raw\\nstring\n"
          ]
        }
      ]
    },
    {
      "cell_type": "markdown",
      "source": [
        "Boolean literals"
      ],
      "metadata": {
        "id": "abFvdcl1aoho"
      }
    },
    {
      "cell_type": "code",
      "source": [
        "x=(1==True)\n",
        "y=(1==False)\n",
        "a=True+4\n",
        "b=False+10\n",
        "print(\"x is\",x)\n",
        "print(\"y is\",y)\n",
        "print(\"a:\",a)\n",
        "print(\"b:\",b)"
      ],
      "metadata": {
        "colab": {
          "base_uri": "https://localhost:8080/"
        },
        "id": "eoG__U8iav--",
        "outputId": "ea849674-eea8-4216-b6ef-241c71881053"
      },
      "execution_count": null,
      "outputs": [
        {
          "output_type": "stream",
          "name": "stdout",
          "text": [
            "x is True\n",
            "y is False\n",
            "a: 5\n",
            "b: 10\n"
          ]
        }
      ]
    },
    {
      "cell_type": "markdown",
      "source": [
        "Special Literals"
      ],
      "metadata": {
        "id": "k7KhvcAsbqv7"
      }
    },
    {
      "cell_type": "code",
      "source": [
        "drink =\"Available\"\n",
        "food = None\n",
        "def menu(x):\n",
        "  if x == drink:\n",
        "    print(drink)\n",
        "  else:\n",
        "    print(food)\n",
        "menu(drink)\n",
        "menu(food)      "
      ],
      "metadata": {
        "colab": {
          "base_uri": "https://localhost:8080/"
        },
        "id": "3ymoNkFpbztf",
        "outputId": "c3f6937e-e3b4-4c24-e234-d1cdebb76dc9"
      },
      "execution_count": null,
      "outputs": [
        {
          "output_type": "stream",
          "name": "stdout",
          "text": [
            "Available\n",
            "None\n"
          ]
        }
      ]
    },
    {
      "cell_type": "markdown",
      "source": [
        "Literals collections"
      ],
      "metadata": {
        "id": "C1gMFr_scK8u"
      }
    },
    {
      "cell_type": "code",
      "source": [
        "fruits = [\"apple\",\"mango\",\"orange\"]\n",
        "numbers = (1,2,3)\n",
        "alphabets ={'a':'apple','b':'ball','c':'cat'}\n",
        "vowels = {'a','e','i','o','u'} \n",
        "print(fruits)\n",
        "print(numbers)\n",
        "print(alphabets)\n",
        "print(vowels)"
      ],
      "metadata": {
        "colab": {
          "base_uri": "https://localhost:8080/"
        },
        "id": "qL92inFkcPHG",
        "outputId": "739ba838-f4cb-4a57-e652-c3b031e17a30"
      },
      "execution_count": null,
      "outputs": [
        {
          "output_type": "stream",
          "name": "stdout",
          "text": [
            "['apple', 'mango', 'orange']\n",
            "(1, 2, 3)\n",
            "{'a': 'apple', 'b': 'ball', 'c': 'cat'}\n",
            "{'u', 'e', 'o', 'i', 'a'}\n"
          ]
        }
      ]
    },
    {
      "cell_type": "markdown",
      "source": [
        "using function's python type"
      ],
      "metadata": {
        "id": "1B4exhNTdFr3"
      }
    },
    {
      "cell_type": "code",
      "source": [
        "Type() with Object parameter"
      ],
      "metadata": {
        "id": "D6GnWoO6dSXU"
      },
      "execution_count": null,
      "outputs": []
    },
    {
      "cell_type": "code",
      "source": [
        "numbers_list = [1,2]\n",
        "print(type(numbers_list))\n",
        "numbers_dict = {1: 'one', 2: 'two'}\n",
        "print(type(numbers_dict))\n",
        "\n",
        "class Foo:\n",
        "  a = 0\n",
        "  Foo = Foo()\n",
        "  print(type(Foo))   "
      ],
      "metadata": {
        "colab": {
          "base_uri": "https://localhost:8080/",
          "height": 373
        },
        "id": "QPG0SpptdMDN",
        "outputId": "df3e698d-6812-44e8-a105-d0f34b936688"
      },
      "execution_count": null,
      "outputs": [
        {
          "output_type": "stream",
          "name": "stdout",
          "text": [
            "<class 'list'>\n",
            "<class 'dict'>\n"
          ]
        },
        {
          "output_type": "error",
          "ename": "NameError",
          "evalue": "ignored",
          "traceback": [
            "\u001b[0;31m---------------------------------------------------------------------------\u001b[0m",
            "\u001b[0;31mNameError\u001b[0m                                 Traceback (most recent call last)",
            "\u001b[0;32m<ipython-input-64-b17189f379c7>\u001b[0m in \u001b[0;36m<module>\u001b[0;34m()\u001b[0m\n\u001b[1;32m      4\u001b[0m \u001b[0mprint\u001b[0m\u001b[0;34m(\u001b[0m\u001b[0mtype\u001b[0m\u001b[0;34m(\u001b[0m\u001b[0mnumbers_dict\u001b[0m\u001b[0;34m)\u001b[0m\u001b[0;34m)\u001b[0m\u001b[0;34m\u001b[0m\u001b[0;34m\u001b[0m\u001b[0m\n\u001b[1;32m      5\u001b[0m \u001b[0;34m\u001b[0m\u001b[0m\n\u001b[0;32m----> 6\u001b[0;31m \u001b[0;32mclass\u001b[0m \u001b[0mFoo\u001b[0m\u001b[0;34m:\u001b[0m\u001b[0;34m\u001b[0m\u001b[0;34m\u001b[0m\u001b[0m\n\u001b[0m\u001b[1;32m      7\u001b[0m   \u001b[0ma\u001b[0m \u001b[0;34m=\u001b[0m \u001b[0;36m0\u001b[0m\u001b[0;34m\u001b[0m\u001b[0;34m\u001b[0m\u001b[0m\n\u001b[1;32m      8\u001b[0m   \u001b[0mFoo\u001b[0m \u001b[0;34m=\u001b[0m \u001b[0mFoo\u001b[0m\u001b[0;34m(\u001b[0m\u001b[0;34m)\u001b[0m\u001b[0;34m\u001b[0m\u001b[0;34m\u001b[0m\u001b[0m\n",
            "\u001b[0;32m<ipython-input-64-b17189f379c7>\u001b[0m in \u001b[0;36mFoo\u001b[0;34m()\u001b[0m\n\u001b[1;32m      6\u001b[0m \u001b[0;32mclass\u001b[0m \u001b[0mFoo\u001b[0m\u001b[0;34m:\u001b[0m\u001b[0;34m\u001b[0m\u001b[0;34m\u001b[0m\u001b[0m\n\u001b[1;32m      7\u001b[0m   \u001b[0ma\u001b[0m \u001b[0;34m=\u001b[0m \u001b[0;36m0\u001b[0m\u001b[0;34m\u001b[0m\u001b[0;34m\u001b[0m\u001b[0m\n\u001b[0;32m----> 8\u001b[0;31m   \u001b[0mFoo\u001b[0m \u001b[0;34m=\u001b[0m \u001b[0mFoo\u001b[0m\u001b[0;34m(\u001b[0m\u001b[0;34m)\u001b[0m\u001b[0;34m\u001b[0m\u001b[0;34m\u001b[0m\u001b[0m\n\u001b[0m\u001b[1;32m      9\u001b[0m   \u001b[0mprint\u001b[0m\u001b[0;34m(\u001b[0m\u001b[0mtype\u001b[0m\u001b[0;34m(\u001b[0m\u001b[0mFoo\u001b[0m\u001b[0;34m)\u001b[0m\u001b[0;34m)\u001b[0m\u001b[0;34m\u001b[0m\u001b[0;34m\u001b[0m\u001b[0m\n",
            "\u001b[0;31mNameError\u001b[0m: name 'Foo' is not defined"
          ]
        }
      ]
    },
    {
      "cell_type": "markdown",
      "source": [
        "Type () with three parameters"
      ],
      "metadata": {
        "id": "ORwcyU7EeLE2"
      }
    },
    {
      "cell_type": "code",
      "source": [
        "o1 = type('X',(object), dict(a='foo', b=12))\n",
        "print(type(o1))\n",
        "print(vars(o1))\n",
        "class test:\n",
        "  a = 'Foo'\n",
        "  b = 12\n",
        "o2 = type('y', (test,), dict(a='Foo', b=12)) \n",
        "print(type(o2))\n",
        "print(vars(o2))\n",
        "\n"
      ],
      "metadata": {
        "id": "DSy1HiBeemlF"
      },
      "execution_count": null,
      "outputs": []
    },
    {
      "cell_type": "markdown",
      "source": [
        "python set attr()"
      ],
      "metadata": {
        "id": "FU24Rz1TgKYx"
      }
    },
    {
      "cell_type": "code",
      "source": [
        "class Student:\n",
        "  marks = 88\n",
        "  name ='sheeran'\n",
        "person = Student()\n",
        "setattr(person, 'name', 'Adam')\n",
        "print(person.name)\n",
        "setattr(person.name)\n",
        "setattr(person, 'marks', 78)\n",
        "print(person.marks)"
      ],
      "metadata": {
        "colab": {
          "base_uri": "https://localhost:8080/",
          "height": 252
        },
        "id": "GlPlO0GLgPPj",
        "outputId": "d2f3bc22-001b-40ac-f76c-8bb79cf8cbfb"
      },
      "execution_count": null,
      "outputs": [
        {
          "output_type": "stream",
          "name": "stdout",
          "text": [
            "Adam\n"
          ]
        },
        {
          "output_type": "error",
          "ename": "TypeError",
          "evalue": "ignored",
          "traceback": [
            "\u001b[0;31m---------------------------------------------------------------------------\u001b[0m",
            "\u001b[0;31mTypeError\u001b[0m                                 Traceback (most recent call last)",
            "\u001b[0;32m<ipython-input-67-41e98095936a>\u001b[0m in \u001b[0;36m<module>\u001b[0;34m()\u001b[0m\n\u001b[1;32m      5\u001b[0m \u001b[0msetattr\u001b[0m\u001b[0;34m(\u001b[0m\u001b[0mperson\u001b[0m\u001b[0;34m,\u001b[0m \u001b[0;34m'name'\u001b[0m\u001b[0;34m,\u001b[0m \u001b[0;34m'Adam'\u001b[0m\u001b[0;34m)\u001b[0m\u001b[0;34m\u001b[0m\u001b[0;34m\u001b[0m\u001b[0m\n\u001b[1;32m      6\u001b[0m \u001b[0mprint\u001b[0m\u001b[0;34m(\u001b[0m\u001b[0mperson\u001b[0m\u001b[0;34m.\u001b[0m\u001b[0mname\u001b[0m\u001b[0;34m)\u001b[0m\u001b[0;34m\u001b[0m\u001b[0;34m\u001b[0m\u001b[0m\n\u001b[0;32m----> 7\u001b[0;31m \u001b[0msetattr\u001b[0m\u001b[0;34m(\u001b[0m\u001b[0mperson\u001b[0m\u001b[0;34m.\u001b[0m\u001b[0mname\u001b[0m\u001b[0;34m)\u001b[0m\u001b[0;34m\u001b[0m\u001b[0;34m\u001b[0m\u001b[0m\n\u001b[0m\u001b[1;32m      8\u001b[0m \u001b[0msetattr\u001b[0m\u001b[0;34m(\u001b[0m\u001b[0mperson\u001b[0m\u001b[0;34m,\u001b[0m \u001b[0;34m'marks'\u001b[0m\u001b[0;34m,\u001b[0m \u001b[0;36m78\u001b[0m\u001b[0;34m)\u001b[0m\u001b[0;34m\u001b[0m\u001b[0;34m\u001b[0m\u001b[0m\n\u001b[1;32m      9\u001b[0m \u001b[0mprint\u001b[0m\u001b[0;34m(\u001b[0m\u001b[0mperson\u001b[0m\u001b[0;34m.\u001b[0m\u001b[0mmarks\u001b[0m\u001b[0;34m)\u001b[0m\u001b[0;34m\u001b[0m\u001b[0;34m\u001b[0m\u001b[0m\n",
            "\u001b[0;31mTypeError\u001b[0m: setattr expected 3 arguments, got 1"
          ]
        }
      ]
    },
    {
      "cell_type": "markdown",
      "source": [
        "How setattr() works in python?"
      ],
      "metadata": {
        "id": "15BjqxE8g8yy"
      }
    },
    {
      "cell_type": "code",
      "source": [
        "class Person:\n",
        "   name = 'Abishek'\n",
        "P = Person()\n",
        "print('Before modification:', P.name)\n",
        "setattr(P,'name','John')\n",
        "print('After modification:',P.name)   "
      ],
      "metadata": {
        "colab": {
          "base_uri": "https://localhost:8080/"
        },
        "id": "LFBfcyRXg8dD",
        "outputId": "bc85f0a8-210f-49f6-adad-897b7b490672"
      },
      "execution_count": null,
      "outputs": [
        {
          "output_type": "stream",
          "name": "stdout",
          "text": [
            "Before modification: Abishek\n",
            "After modification: John\n"
          ]
        }
      ]
    },
    {
      "cell_type": "markdown",
      "source": [
        "python tuple()"
      ],
      "metadata": {
        "id": "A3H9Rg8riZIn"
      }
    },
    {
      "cell_type": "code",
      "source": [
        "t1 = tuple()\n",
        "print('t1 =',t1)\n",
        "t2 = tuple([1,4,6])\n",
        "print('t2 =',t2)\n",
        "t1 = tuple('Python')\n",
        "print('t1=',t1)\n",
        "t1 = tuple({1: 'one', 2: 'two'})\n",
        "print('t1 =', t1)"
      ],
      "metadata": {
        "colab": {
          "base_uri": "https://localhost:8080/"
        },
        "id": "mb9-lMGMieX6",
        "outputId": "868c3d30-53a6-406d-952d-70e607a902a9"
      },
      "execution_count": null,
      "outputs": [
        {
          "output_type": "stream",
          "name": "stdout",
          "text": [
            "t1 = ()\n",
            "t2 = (1, 4, 6)\n",
            "t1= ('P', 'y', 't', 'h', 'o', 'n')\n",
            "t1 = (1, 2)\n"
          ]
        }
      ]
    },
    {
      "cell_type": "markdown",
      "source": [
        "To find the area of a circle-using radius"
      ],
      "metadata": {
        "id": "A9QucJy4kFC2"
      }
    },
    {
      "cell_type": "code",
      "source": [
        "def findArea(r):\n",
        "  PI = 3.142\n",
        "  return PI*(r*r);\n",
        "print(\"Area is %.6f\"%findArea(5));\n"
      ],
      "metadata": {
        "colab": {
          "base_uri": "https://localhost:8080/"
        },
        "id": "g40MrUM9kMvb",
        "outputId": "319f9d1f-080d-4e34-fd01-64ded1d9ed43"
      },
      "execution_count": null,
      "outputs": [
        {
          "output_type": "stream",
          "name": "stdout",
          "text": [
            "Area is 78.550000\n"
          ]
        }
      ]
    },
    {
      "cell_type": "markdown",
      "source": [
        "sum of squares of first n natural numbers"
      ],
      "metadata": {
        "id": "XMcioVhalJPB"
      }
    },
    {
      "cell_type": "code",
      "source": [
        "sm = 0\n",
        "for i in range(1, n+1) :\n",
        "  sm = sm + (i * i)\n",
        "return sm:\n",
        "n = 4\n",
        "print(squaresum(n)) "
      ],
      "metadata": {
        "colab": {
          "base_uri": "https://localhost:8080/",
          "height": 130
        },
        "id": "O4AWUMwPlS0c",
        "outputId": "8f18af61-3650-4fbf-feed-91d7be54170c"
      },
      "execution_count": 30,
      "outputs": [
        {
          "output_type": "error",
          "ename": "SyntaxError",
          "evalue": "ignored",
          "traceback": [
            "\u001b[0;36m  File \u001b[0;32m\"<ipython-input-30-97d3524fb29e>\"\u001b[0;36m, line \u001b[0;32m4\u001b[0m\n\u001b[0;31m    return sm:\u001b[0m\n\u001b[0m             ^\u001b[0m\n\u001b[0;31mSyntaxError\u001b[0m\u001b[0;31m:\u001b[0m invalid syntax\n"
          ]
        }
      ]
    },
    {
      "cell_type": "markdown",
      "source": [
        "To interchange first and last elements in a list"
      ],
      "metadata": {
        "id": "nhnXb-MaSKNg"
      }
    },
    {
      "cell_type": "code",
      "source": [
        "def swaplist(newlist):\n",
        "  size = len(newlist)\n",
        "  temp = newlist[0]\n",
        "  newlist[0] = newlist[Size -1] \n",
        "  newlist[size - 1] = temp\n",
        "return newlist = [12, 35, 9, 56, 24]\n",
        "print(swaplist(newlist))"
      ],
      "metadata": {
        "colab": {
          "base_uri": "https://localhost:8080/",
          "height": 130
        },
        "id": "PaKcfGoISUfM",
        "outputId": "e1f380f4-d49f-4257-db30-a6172e6837c8"
      },
      "execution_count": 61,
      "outputs": [
        {
          "output_type": "error",
          "ename": "SyntaxError",
          "evalue": "ignored",
          "traceback": [
            "\u001b[0;36m  File \u001b[0;32m\"<ipython-input-61-aacfe7e09bd6>\"\u001b[0;36m, line \u001b[0;32m6\u001b[0m\n\u001b[0;31m    return newlist = [12, 35, 9, 56, 24]\u001b[0m\n\u001b[0m                   ^\u001b[0m\n\u001b[0;31mSyntaxError\u001b[0m\u001b[0;31m:\u001b[0m invalid syntax\n"
          ]
        }
      ]
    },
    {
      "cell_type": "markdown",
      "source": [
        "output[24,35,9,56,12]"
      ],
      "metadata": {
        "id": "hUQxUNQ2UtVR"
      }
    },
    {
      "cell_type": "markdown",
      "source": [
        "Write a python program to find smallest number in a list"
      ],
      "metadata": {
        "id": "UZtVmXLzUymh"
      }
    },
    {
      "cell_type": "code",
      "source": [
        " list1 = [10, 20, 4]\n",
        " list2 =[20, 10, 4, 45, 99]\n",
        " list1.sort()\n",
        " print(\"Smallest element is:\", *list1[:1])\n",
        " \n",
        "\n"
      ],
      "metadata": {
        "colab": {
          "base_uri": "https://localhost:8080/"
        },
        "id": "LB3OEU0lRMtA",
        "outputId": "6aa54544-06ad-4daf-845b-836750682451"
      },
      "execution_count": 50,
      "outputs": [
        {
          "output_type": "stream",
          "name": "stdout",
          "text": [
            "Smallest element is: 4\n"
          ]
        }
      ]
    },
    {
      "cell_type": "markdown",
      "source": [
        "To print even numbers in a list. "
      ],
      "metadata": {
        "id": "01OFWOoMYpUn"
      }
    },
    {
      "cell_type": "code",
      "source": [
        "list1 = [10, 21, 4, 45, 66, 93] \n",
        "for num in list1:\n",
        "  if num % 2 == 0:\n",
        "    print(num, end = \" \")    "
      ],
      "metadata": {
        "colab": {
          "base_uri": "https://localhost:8080/"
        },
        "id": "AdkVrICdYxTm",
        "outputId": "b83f2dbc-5f06-4c80-b97b-86da24a1185e"
      },
      "execution_count": 60,
      "outputs": [
        {
          "output_type": "stream",
          "name": "stdout",
          "text": [
            "10 4 66 "
          ]
        }
      ]
    },
    {
      "cell_type": "markdown",
      "source": [
        "To print all negative numbers in  given in a range"
      ],
      "metadata": {
        "id": "IdOOO8RNZRYW"
      }
    },
    {
      "cell_type": "code",
      "source": [
        "start, end = -4, 19\n",
        "for num in range(start, end + 1):\n",
        "  if num < 0:\n",
        "    print(num, end = \" \")"
      ],
      "metadata": {
        "colab": {
          "base_uri": "https://localhost:8080/"
        },
        "id": "qdw-__KCYm2c",
        "outputId": "c3cccf80-ec74-4a60-8951-56cc2a754913"
      },
      "execution_count": 62,
      "outputs": [
        {
          "output_type": "stream",
          "name": "stdout",
          "text": [
            "-4 -3 -2 -1 "
          ]
        }
      ]
    },
    {
      "cell_type": "markdown",
      "source": [
        "To check if a string is palindrome or not"
      ],
      "metadata": {
        "id": "m2rT27jyZ6PJ"
      }
    },
    {
      "cell_type": "code",
      "source": [
        "def isPalindrome(s):\n",
        "  return s == s[::-1]\n",
        "s = \"GeeG\"\n",
        "ans = isPalindrome(s)\n",
        "if ans:\n",
        "  print(\"yes\")\n",
        "else:\n",
        "    print(\"No\") "
      ],
      "metadata": {
        "colab": {
          "base_uri": "https://localhost:8080/"
        },
        "id": "TbJDTeF0aEXq",
        "outputId": "a125959b-9b3b-4a43-854e-4af087723d9a"
      },
      "execution_count": 67,
      "outputs": [
        {
          "output_type": "stream",
          "name": "stdout",
          "text": [
            "yes\n"
          ]
        }
      ]
    },
    {
      "cell_type": "markdown",
      "source": [
        "To print even length words in a string"
      ],
      "metadata": {
        "id": "5pGPi3hha28I"
      }
    },
    {
      "cell_type": "code",
      "source": [
        "def printWords(s):\n",
        "  s = s.split(' ')\n",
        "  for word in s:\n",
        "    if len(word)%2==0:\n",
        "      print(word)\n",
        "      s =\"i am abishek\"\n",
        "printWords(s)\n",
        "\n"
      ],
      "metadata": {
        "colab": {
          "base_uri": "https://localhost:8080/"
        },
        "id": "zIuvfdGBa9kj",
        "outputId": "6816d8a4-b3f9-42ff-fcd5-12a766cde1af"
      },
      "execution_count": 72,
      "outputs": [
        {
          "output_type": "stream",
          "name": "stdout",
          "text": [
            "GeeG\n"
          ]
        }
      ]
    },
    {
      "cell_type": "markdown",
      "source": [
        "Quick sort"
      ],
      "metadata": {
        "id": "kAhodUhrcMXC"
      }
    },
    {
      "cell_type": "code",
      "source": [
        "def partition(arr,low,high):\n",
        "  i = (low-1)\n",
        "  pivot = arr[high]\n",
        "for j in range(low, high):\n",
        "  if  \n"
      ],
      "metadata": {
        "id": "rN4179oncUsa"
      },
      "execution_count": null,
      "outputs": []
    }
  ]
}